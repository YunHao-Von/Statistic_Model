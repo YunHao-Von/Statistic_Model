{
 "cells": [
  {
   "cell_type": "code",
   "execution_count": 124,
   "metadata": {
    "collapsed": true
   },
   "outputs": [],
   "source": [
    "import pandas as pd\n",
    "import os\n",
    "from datetime import datetime"
   ]
  },
  {
   "cell_type": "code",
   "execution_count": 125,
   "outputs": [],
   "source": [
    "# files=os.listdir('处理后数据/ROE_ROA_ocf_to_profit')\n",
    "# total_code=[]\n",
    "# for i in range(0,len(files)):\n",
    "#     try:\n",
    "#         temp_data=pd.read_csv('处理后数据/ROE_ROA_ocf_to_profit/'+str(files[i]))\n",
    "#         temp_data=temp_data[~(temp_data['ann_date'].isnull())]\n",
    "#         temp_code=temp_data.iloc[0,0]\n",
    "#         temp_data.sort_values(by=\"ann_date\" , inplace=True, ascending=True)\n",
    "#         temp_data.reset_index(drop=True, inplace=True)\n",
    "#         temp_data['time']=temp_data['ann_date'].apply(lambda x:datetime.strptime(str(x),'%Y%m%d'))\n",
    "#         temp_data['jidu']=pd.PeriodIndex(temp_data.time, freq='Q')\n",
    "#         temp=temp_data.groupby(['jidu'])[['inv_turn','assets_turn','grossprofit_margin',\n",
    "#                 'roe','roa','ocf_to_or','longdebt_to_workingcapital','q_sales_yoy',\n",
    "#                 'q_op_yoy','equity_yoy']].mean()\n",
    "#         temp['jidu']=list(temp.index)\n",
    "#         temp.reset_index(drop=True, inplace=True)\n",
    "#         temp['code']=[temp_code]*temp.shape[0]\n",
    "#         temp_data2=pd.read_csv('处理后数据/Reventure/'+str(files[i]))\n",
    "#         temp_data2=temp_data2[~(temp_data2['ann_date'].isnull())]\n",
    "#         temp_data2.sort_values(by=\"ann_date\" , inplace=True, ascending=True)\n",
    "#         temp_data2.reset_index(drop=True, inplace=True)\n",
    "#         temp_data2['time']=temp_data2['ann_date'].apply(lambda x:datetime.strptime(str(x),'%Y%m%d'))\n",
    "#         temp_data2['jidu']=pd.PeriodIndex(temp_data2.time, freq='Q')\n",
    "#         temp2=temp_data2.groupby(['jidu'])[['revenue','yoy_sales','yoy_op','growth_assets']].mean()\n",
    "#         temp2['jidu']=list(temp2.index)\n",
    "#         temp2.reset_index(drop=True, inplace=True)\n",
    "#         temp2=pd.merge(temp,temp2,on='jidu',how='left')\n",
    "#         temp_data3=pd.read_csv('处理后数据/BP_EP_SP/'+str(files[i]))\n",
    "#         temp_data3=temp_data3[~(temp_data3['trade_date'].isnull())]\n",
    "#         temp_data3.sort_values(by=\"trade_date\" , inplace=True, ascending=True)\n",
    "#         temp_data3.reset_index(drop=True, inplace=True)\n",
    "#         temp_data3['time']=temp_data3['trade_date'].apply(lambda x:datetime.strptime(str(x),'%Y%m%d'))\n",
    "#         temp_data3['jidu']=pd.PeriodIndex(temp_data3.time, freq='Q')\n",
    "#         temp3=temp_data3.groupby(['jidu'])[['trade_date','turnover_rate','dv_ratio','bp','ep','sp']].mean()\n",
    "#         temp3['jidu']=list(temp3.index)\n",
    "#         temp3.reset_index(drop=True, inplace=True)\n",
    "#         temp3=pd.merge(temp2,temp3,on='jidu',how='left')\n",
    "#         code=temp3['code'].tolist()\n",
    "#         jidu=temp3['jidu'].tolist()\n",
    "#         temp3=temp3.drop(columns=['code', 'jidu'])\n",
    "#         temp3['jidu']=jidu\n",
    "#         temp3['code']=code\n",
    "#         temp3.to_csv('数据清洗/'+str(temp_code[0:6])+'.csv',index=False)\n",
    "#         total_code.append(temp_code)\n",
    "#         print(i)\n",
    "#     except:\n",
    "#         continue"
   ],
   "metadata": {
    "collapsed": false,
    "pycharm": {
     "name": "#%%\n"
    }
   }
  },
  {
   "cell_type": "code",
   "execution_count": 126,
   "outputs": [],
   "source": [
    "# Stock_list=pd.DataFrame({'股票代码':total_code})\n",
    "# Stock_list.to_csv('清洗剩余列表.csv',index=False)"
   ],
   "metadata": {
    "collapsed": false,
    "pycharm": {
     "name": "#%%\n"
    }
   }
  },
  {
   "cell_type": "code",
   "execution_count": 127,
   "outputs": [],
   "source": [
    "stock_list=pd.read_csv('清洗剩余列表.csv')"
   ],
   "metadata": {
    "collapsed": false,
    "pycharm": {
     "name": "#%%\n"
    }
   }
  },
  {
   "cell_type": "code",
   "execution_count": 128,
   "outputs": [
    {
     "name": "stdout",
     "output_type": "stream",
     "text": [
      "(2925, 1)\n"
     ]
    }
   ],
   "source": [
    "print(stock_list.shape)"
   ],
   "metadata": {
    "collapsed": false,
    "pycharm": {
     "name": "#%%\n"
    }
   }
  },
  {
   "cell_type": "code",
   "execution_count": 129,
   "outputs": [],
   "source": [
    "import numpy as np\n",
    "for i in range(0,len(stock_list)):\n",
    "    temp_code=stock_list.iloc[i,0][0:6]\n",
    "    temp_rixian=pd.read_csv('处理后数据/日线数据/'+str(temp_code)+'.csv')\n",
    "    temp_rixian.sort_values(by=\"trade_date\" , inplace=True, ascending=True)\n",
    "    temp_rixian.reset_index(drop=True, inplace=True)\n",
    "    temp_return=np.log(temp_rixian.close/temp_rixian.pre_close)\n",
    "    temp_rixian['return']=temp_return\n",
    "    temp_rixian['time']=temp_rixian['trade_date'].apply(lambda x:datetime.strptime(str(x),'%Y%m%d'))\n",
    "    temp_rixian['jidu']=pd.PeriodIndex(temp_rixian.time, freq='Q')\n",
    "    temp_rixian=temp_rixian[['jidu','return']]\n",
    "    temp_rixian=temp_rixian.groupby(['jidu'])[['return']].sum()\n",
    "    temp_rixian['jidu']=list(temp_rixian.index)\n",
    "    temp_rixian.reset_index(drop=True, inplace=True)\n",
    "    temp_rixian.to_csv('temp.csv',index=False)\n",
    "    temp_rixian=pd.read_csv('temp.csv')\n",
    "    left=pd.read_csv('数据清洗/'+str(temp_code)+'.csv')\n",
    "    left=pd.merge(left,temp_rixian,on='jidu',how='inner')\n",
    "    code=left['code'].tolist()\n",
    "    jidu=left['jidu'].tolist()\n",
    "    left=left.drop(columns=['code', 'jidu'])\n",
    "    left['jidu']=jidu\n",
    "    left['code']=code\n",
    "    left.to_csv('最终数据/'+str(temp_code[0:6])+'.csv',index=False)"
   ],
   "metadata": {
    "collapsed": false,
    "pycharm": {
     "name": "#%%\n"
    }
   }
  },
  {
   "cell_type": "code",
   "execution_count": 2,
   "outputs": [
    {
     "name": "stdout",
     "output_type": "stream",
     "text": [
      "10\n"
     ]
    }
   ],
   "source": [
    "print(10)\n",
    "\n"
   ],
   "metadata": {
    "collapsed": false,
    "pycharm": {
     "name": "#%%\n"
    }
   }
  }
 ],
 "metadata": {
  "kernelspec": {
   "name": "pycharm-1dac48b0",
   "language": "python",
   "display_name": "PyCharm (shiyan)"
  },
  "language_info": {
   "codemirror_mode": {
    "name": "ipython",
    "version": 2
   },
   "file_extension": ".py",
   "mimetype": "text/x-python",
   "name": "python",
   "nbconvert_exporter": "python",
   "pygments_lexer": "ipython2",
   "version": "2.7.6"
  }
 },
 "nbformat": 4,
 "nbformat_minor": 0
}