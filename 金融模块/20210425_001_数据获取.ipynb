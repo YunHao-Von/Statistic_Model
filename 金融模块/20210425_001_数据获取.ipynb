{
 "cells": [
  {
   "cell_type": "code",
   "execution_count": 1,
   "metadata": {
    "collapsed": true
   },
   "outputs": [],
   "source": [
    "# 获取股票列表\n",
    "import pandas as pd\n",
    "import tushare as ts\n",
    "pro = ts.pro_api()\n",
    "stock_list = pro.stock_basic(exchange='', list_status='L', fields='ts_code,symbol,name,area,industry,list_date')\n",
    "stock_list.to_csv('股票列表.csv',index=False,encoding='utf-8')"
   ]
  },
  {
   "cell_type": "code",
   "execution_count": 5,
   "outputs": [],
   "source": [
    "import time\n",
    "for i in range(4260,stock_list.shape[0]):\n",
    "    temp_code=stock_list.iloc[i,0]\n",
    "    temp_start_date=stock_list.iloc[i,5]\n",
    "    temp_income = pro.income(ts_code=temp_code, start_date=temp_start_date, end_date='20210425')\n",
    "    temp_income.to_csv('数据存储/利润表/'+str(temp_code[0:6])+'.csv',index=False)\n",
    "    df = pro.balancesheet(ts_code=temp_code, start_date=temp_start_date, end_date='20210425')\n",
    "    df.to_csv('数据存储/资产负债表/'+str(temp_code[0:6])+'.csv',index=False)\n",
    "    df = pro.cashflow(ts_code=temp_code, start_date=temp_start_date, end_date='20210425')\n",
    "    df.to_csv('数据存储/现金流量表/'+str(temp_code[0:6])+'.csv',index=False)\n",
    "    df = pro.express(ts_code=temp_code, start_date=temp_start_date, end_date='20210425')\n",
    "    df.to_csv('数据存储/业绩快报/'+str(temp_code[0:6])+'.csv',index=False)\n",
    "    df = pro.dividend(ts_code=temp_code, start_date=temp_start_date, end_date='20210425')\n",
    "    df.to_csv('数据存储/分红送股/'+str(temp_code[0:6])+'.csv',index=False)\n",
    "    df = pro.fina_indicator(ts_code=temp_code, start_date=temp_start_date, end_date='20210425')\n",
    "    df.to_csv('数据存储/财务指标/'+str(temp_code[0:6])+'.csv',index=False)\n",
    "    df = pro.fina_mainbz(ts_code=temp_code, start_date=temp_start_date, end_date='20210425')\n",
    "    df.to_csv('数据存储/主营业务构成/'+str(temp_code[0:6])+'.csv',index=False)\n",
    "    time.sleep(3)"
   ],
   "metadata": {
    "collapsed": false,
    "pycharm": {
     "name": "#%%\n"
    }
   }
  },
  {
   "cell_type": "code",
   "execution_count": null,
   "outputs": [],
   "source": [],
   "metadata": {
    "collapsed": false,
    "pycharm": {
     "name": "#%%\n"
    }
   }
  }
 ],
 "metadata": {
  "kernelspec": {
   "name": "pycharm-1dac48b0",
   "language": "python",
   "display_name": "PyCharm (shiyan)"
  },
  "language_info": {
   "codemirror_mode": {
    "name": "ipython",
    "version": 2
   },
   "file_extension": ".py",
   "mimetype": "text/x-python",
   "name": "python",
   "nbconvert_exporter": "python",
   "pygments_lexer": "ipython2",
   "version": "2.7.6"
  }
 },
 "nbformat": 4,
 "nbformat_minor": 0
}