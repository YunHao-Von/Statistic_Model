{
 "cells": [
  {
   "cell_type": "code",
   "execution_count": 1,
   "metadata": {
    "collapsed": true
   },
   "outputs": [],
   "source": [
    "import pandas as pd\n",
    "from sklearn import linear_model\n",
    "import os"
   ]
  },
  {
   "cell_type": "code",
   "execution_count": 2,
   "outputs": [],
   "source": [
    "files=os.listdir('最终数据')\n",
    "useful_files=[]\n",
    "for file in files:\n",
    "    try:\n",
    "        data=pd.read_csv('最终数据/'+file)\n",
    "        jidu=data['jidu'].tolist()\n",
    "        if ('2020Q4' in jidu):\n",
    "            useful_files.append(file)\n",
    "    except:\n",
    "        continue"
   ],
   "metadata": {
    "collapsed": false,
    "pycharm": {
     "name": "#%%\n"
    }
   }
  },
  {
   "cell_type": "code",
   "execution_count": 3,
   "outputs": [],
   "source": [
    "data=pd.read_csv('最终数据/'+str(useful_files[0]))\n",
    "data=data[data['jidu']=='2020Q2']\n",
    "for i in range(1,len(useful_files)):\n",
    "    temp=pd.read_csv('最终数据/'+str(useful_files[i]))\n",
    "    temp=temp[temp['jidu']=='2020Q2']\n",
    "    data=pd.concat([data,temp])"
   ],
   "metadata": {
    "collapsed": false,
    "pycharm": {
     "name": "#%%\n"
    }
   }
  },
  {
   "cell_type": "code",
   "execution_count": 5,
   "outputs": [],
   "source": [
    "data.to_csv('2020q3.csv',index=False)"
   ],
   "metadata": {
    "collapsed": false,
    "pycharm": {
     "name": "#%%\n"
    }
   }
  },
  {
   "cell_type": "code",
   "execution_count": 3,
   "outputs": [],
   "source": [
    "data=pd.read_csv('最终数据/'+str(useful_files[0]))\n",
    "data=data[data['jidu']=='2020Q4']\n",
    "for i in range(1,len(useful_files)):\n",
    "    temp=pd.read_csv('最终数据/'+str(useful_files[i]))\n",
    "    temp=temp[temp['jidu']=='2020Q4']\n",
    "    data=pd.concat([data,temp])"
   ],
   "metadata": {
    "collapsed": false,
    "pycharm": {
     "name": "#%%\n"
    }
   }
  },
  {
   "cell_type": "code",
   "execution_count": 4,
   "outputs": [],
   "source": [
    "data=data[['grossprofit_margin','roe','roa','longdebt_to_workingcapital',\n",
    "          'q_sales_yoy','q_op_yoy','equity_yoy','turnover_rate',\n",
    "          'bp','ep','sp','code']]\n",
    "data['code']=data['code'].apply(lambda x:str(x[0:6])+'.csv')\n",
    "data=data[data['code']!='000004.csv']\n",
    "data.to_csv('2020year_4jidu.csv',index=False)"
   ],
   "metadata": {
    "collapsed": false,
    "pycharm": {
     "name": "#%%\n"
    }
   }
  },
  {
   "cell_type": "code",
   "execution_count": 5,
   "outputs": [],
   "source": [
    "import numpy as np\n",
    "shouyi=[]\n",
    "for i in useful_files:\n",
    "    temp=pd.read_csv('处理后数据/日线数据/'+str(i))\n",
    "    temp=temp[temp['trade_date']<20210401]\n",
    "    date=temp['trade_date'].tolist()\n",
    "    marx=max(np.array(date)-20210401)\n",
    "    latest=marx+20210401\n",
    "    temp=temp[temp['trade_date']==int(latest)]\n",
    "    end=temp.iloc[0,5]\n",
    "    temp=pd.read_csv('处理后数据/日线数据/'+str(i))\n",
    "    temp=temp[temp['trade_date']>=20210101]\n",
    "    date=temp['trade_date'].tolist()\n",
    "    minx=min(np.array(date)-20210101)\n",
    "    earlyest=minx+20210101\n",
    "    temp=temp[temp['trade_date']==int(earlyest)]\n",
    "    start=temp.iloc[0,5]\n",
    "    temp_shouyi=(end-start)/end\n",
    "    shouyi.append(temp_shouyi)"
   ],
   "metadata": {
    "collapsed": false,
    "pycharm": {
     "name": "#%%\n"
    }
   }
  },
  {
   "cell_type": "code",
   "execution_count": 6,
   "outputs": [],
   "source": [
    "shouyi=pd.DataFrame({\n",
    "    'code':useful_files,\n",
    "    'shouyi':shouyi\n",
    "})"
   ],
   "metadata": {
    "collapsed": false,
    "pycharm": {
     "name": "#%%\n"
    }
   }
  },
  {
   "cell_type": "code",
   "execution_count": 7,
   "outputs": [],
   "source": [
    "tempresult=pd.merge(left=data,right=shouyi,on='code',how='inner')\n",
    "tempresult.to_csv('2020year_4jidu.csv',index=False)"
   ],
   "metadata": {
    "collapsed": false,
    "pycharm": {
     "name": "#%%\n"
    }
   }
  },
  {
   "cell_type": "code",
   "execution_count": 8,
   "outputs": [
    {
     "data": {
      "text/plain": "      grossprofit_margin      roe     roa  longdebt_to_workingcapital  \\\n0                29.9372  10.1669  2.6315                      1.0428   \n1                44.6791   7.4272  4.7049                      0.4680   \n2                34.7990   8.4807  4.6886                      0.7577   \n3                23.6100   5.6411  3.4811                      0.3758   \n4                50.2022   6.1314  2.7814                      0.6718   \n...                  ...      ...     ...                         ...   \n2396             79.9611   4.4490  4.6141                      0.0421   \n2397             38.7537   4.7903  5.0852                      0.0512   \n2398             47.5831  -1.5985 -2.1265                      0.0008   \n2399             36.5234  10.2996  6.9288                      0.3022   \n2400             35.5667   8.7032  8.8104                      0.0094   \n\n      q_sales_yoy   q_op_yoy  equity_yoy  turnover_rate        bp        ep  \\\n0         12.4680    10.5280     21.1636       0.685172  0.589241  0.115821   \n1        -60.2317    -5.4622      9.7574       1.010927  0.887021  0.102312   \n2          3.4168    89.1507     25.5407       1.851330  0.334980  0.015503   \n3        -63.7050   -41.3767      7.9988       1.664098  0.141250  0.013904   \n4        -19.6354 -3949.0880     -4.0688       1.641112  0.376589  0.098364   \n...           ...        ...         ...            ...       ...       ...   \n2396      -2.5743   -28.2285     44.0240       2.015442  0.161906  0.013220   \n2397      37.8247    19.9441      4.2958       1.907695  0.149375  0.010160   \n2398     -27.0898  -119.1928    185.6580       1.448062  0.322293  0.017391   \n2399      79.8394   443.1887      7.4098       1.757398  0.104826  0.006207   \n2400       3.2217   136.2511    260.8118       3.376680  0.186341  0.012660   \n\n            sp        code    shouyi  \n0     1.096152  000002.csv  0.074000  \n1     0.476505  000006.csv -0.026022  \n2     0.615156  000009.csv  0.102535  \n3     0.566349  000010.csv  0.012195  \n4     0.476501  000011.csv  0.109131  \n...        ...         ...       ...  \n2396  0.064003  688108.csv -0.356137  \n2397  0.035663  688116.csv -0.368298  \n2398  0.136978  688118.csv -0.324782  \n2399  0.056726  688122.csv -0.666139  \n2400  0.068339  688123.csv -0.475672  \n\n[2401 rows x 13 columns]",
      "text/html": "<div>\n<style scoped>\n    .dataframe tbody tr th:only-of-type {\n        vertical-align: middle;\n    }\n\n    .dataframe tbody tr th {\n        vertical-align: top;\n    }\n\n    .dataframe thead th {\n        text-align: right;\n    }\n</style>\n<table border=\"1\" class=\"dataframe\">\n  <thead>\n    <tr style=\"text-align: right;\">\n      <th></th>\n      <th>grossprofit_margin</th>\n      <th>roe</th>\n      <th>roa</th>\n      <th>longdebt_to_workingcapital</th>\n      <th>q_sales_yoy</th>\n      <th>q_op_yoy</th>\n      <th>equity_yoy</th>\n      <th>turnover_rate</th>\n      <th>bp</th>\n      <th>ep</th>\n      <th>sp</th>\n      <th>code</th>\n      <th>shouyi</th>\n    </tr>\n  </thead>\n  <tbody>\n    <tr>\n      <th>0</th>\n      <td>29.9372</td>\n      <td>10.1669</td>\n      <td>2.6315</td>\n      <td>1.0428</td>\n      <td>12.4680</td>\n      <td>10.5280</td>\n      <td>21.1636</td>\n      <td>0.685172</td>\n      <td>0.589241</td>\n      <td>0.115821</td>\n      <td>1.096152</td>\n      <td>000002.csv</td>\n      <td>0.074000</td>\n    </tr>\n    <tr>\n      <th>1</th>\n      <td>44.6791</td>\n      <td>7.4272</td>\n      <td>4.7049</td>\n      <td>0.4680</td>\n      <td>-60.2317</td>\n      <td>-5.4622</td>\n      <td>9.7574</td>\n      <td>1.010927</td>\n      <td>0.887021</td>\n      <td>0.102312</td>\n      <td>0.476505</td>\n      <td>000006.csv</td>\n      <td>-0.026022</td>\n    </tr>\n    <tr>\n      <th>2</th>\n      <td>34.7990</td>\n      <td>8.4807</td>\n      <td>4.6886</td>\n      <td>0.7577</td>\n      <td>3.4168</td>\n      <td>89.1507</td>\n      <td>25.5407</td>\n      <td>1.851330</td>\n      <td>0.334980</td>\n      <td>0.015503</td>\n      <td>0.615156</td>\n      <td>000009.csv</td>\n      <td>0.102535</td>\n    </tr>\n    <tr>\n      <th>3</th>\n      <td>23.6100</td>\n      <td>5.6411</td>\n      <td>3.4811</td>\n      <td>0.3758</td>\n      <td>-63.7050</td>\n      <td>-41.3767</td>\n      <td>7.9988</td>\n      <td>1.664098</td>\n      <td>0.141250</td>\n      <td>0.013904</td>\n      <td>0.566349</td>\n      <td>000010.csv</td>\n      <td>0.012195</td>\n    </tr>\n    <tr>\n      <th>4</th>\n      <td>50.2022</td>\n      <td>6.1314</td>\n      <td>2.7814</td>\n      <td>0.6718</td>\n      <td>-19.6354</td>\n      <td>-3949.0880</td>\n      <td>-4.0688</td>\n      <td>1.641112</td>\n      <td>0.376589</td>\n      <td>0.098364</td>\n      <td>0.476501</td>\n      <td>000011.csv</td>\n      <td>0.109131</td>\n    </tr>\n    <tr>\n      <th>...</th>\n      <td>...</td>\n      <td>...</td>\n      <td>...</td>\n      <td>...</td>\n      <td>...</td>\n      <td>...</td>\n      <td>...</td>\n      <td>...</td>\n      <td>...</td>\n      <td>...</td>\n      <td>...</td>\n      <td>...</td>\n      <td>...</td>\n    </tr>\n    <tr>\n      <th>2396</th>\n      <td>79.9611</td>\n      <td>4.4490</td>\n      <td>4.6141</td>\n      <td>0.0421</td>\n      <td>-2.5743</td>\n      <td>-28.2285</td>\n      <td>44.0240</td>\n      <td>2.015442</td>\n      <td>0.161906</td>\n      <td>0.013220</td>\n      <td>0.064003</td>\n      <td>688108.csv</td>\n      <td>-0.356137</td>\n    </tr>\n    <tr>\n      <th>2397</th>\n      <td>38.7537</td>\n      <td>4.7903</td>\n      <td>5.0852</td>\n      <td>0.0512</td>\n      <td>37.8247</td>\n      <td>19.9441</td>\n      <td>4.2958</td>\n      <td>1.907695</td>\n      <td>0.149375</td>\n      <td>0.010160</td>\n      <td>0.035663</td>\n      <td>688116.csv</td>\n      <td>-0.368298</td>\n    </tr>\n    <tr>\n      <th>2398</th>\n      <td>47.5831</td>\n      <td>-1.5985</td>\n      <td>-2.1265</td>\n      <td>0.0008</td>\n      <td>-27.0898</td>\n      <td>-119.1928</td>\n      <td>185.6580</td>\n      <td>1.448062</td>\n      <td>0.322293</td>\n      <td>0.017391</td>\n      <td>0.136978</td>\n      <td>688118.csv</td>\n      <td>-0.324782</td>\n    </tr>\n    <tr>\n      <th>2399</th>\n      <td>36.5234</td>\n      <td>10.2996</td>\n      <td>6.9288</td>\n      <td>0.3022</td>\n      <td>79.8394</td>\n      <td>443.1887</td>\n      <td>7.4098</td>\n      <td>1.757398</td>\n      <td>0.104826</td>\n      <td>0.006207</td>\n      <td>0.056726</td>\n      <td>688122.csv</td>\n      <td>-0.666139</td>\n    </tr>\n    <tr>\n      <th>2400</th>\n      <td>35.5667</td>\n      <td>8.7032</td>\n      <td>8.8104</td>\n      <td>0.0094</td>\n      <td>3.2217</td>\n      <td>136.2511</td>\n      <td>260.8118</td>\n      <td>3.376680</td>\n      <td>0.186341</td>\n      <td>0.012660</td>\n      <td>0.068339</td>\n      <td>688123.csv</td>\n      <td>-0.475672</td>\n    </tr>\n  </tbody>\n</table>\n<p>2401 rows × 13 columns</p>\n</div>"
     },
     "execution_count": 8,
     "metadata": {},
     "output_type": "execute_result"
    }
   ],
   "source": [
    "tempresult"
   ],
   "metadata": {
    "collapsed": false,
    "pycharm": {
     "name": "#%%\n"
    }
   }
  },
  {
   "cell_type": "code",
   "execution_count": 8,
   "outputs": [],
   "source": [
    "\n",
    "\n"
   ],
   "metadata": {
    "collapsed": false,
    "pycharm": {
     "name": "#%%\n"
    }
   }
  },
  {
   "cell_type": "code",
   "execution_count": 9,
   "outputs": [],
   "source": [
    "import pandas as pd\n",
    "from sklearn import linear_model\n",
    "import os\n",
    "files=os.listdir('最终数据')\n",
    "useful_files=[]\n",
    "for file in files:\n",
    "    try:\n",
    "        data=pd.read_csv('最终数据/'+file)\n",
    "        jidu=data['jidu'].tolist()\n",
    "        if ('2021Q1' in jidu):\n",
    "            useful_files.append(file)\n",
    "    except:\n",
    "        continue\n",
    "data=pd.read_csv('最终数据/'+str(useful_files[0]))\n",
    "data=data[data['jidu']=='2021Q1']\n",
    "for i in range(1,len(useful_files)):\n",
    "    temp=pd.read_csv('最终数据/'+str(useful_files[i]))\n",
    "    temp=temp[temp['jidu']=='2021Q1']\n",
    "    data=pd.concat([data,temp])"
   ],
   "metadata": {
    "collapsed": false,
    "pycharm": {
     "name": "#%%\n"
    }
   }
  },
  {
   "cell_type": "code",
   "execution_count": 10,
   "outputs": [],
   "source": [
    "data=data[['grossprofit_margin','roe','roa','longdebt_to_workingcapital',\n",
    "          'q_sales_yoy','q_op_yoy','equity_yoy','turnover_rate',\n",
    "          'bp','ep','sp','code']]\n",
    "data['code']=data['code'].apply(lambda x:str(x[0:6])+'.csv')\n",
    "data=data[data['code']!='000004.csv']\n",
    "data.to_csv('2021year_1jidu.csv',index=False)"
   ],
   "metadata": {
    "collapsed": false,
    "pycharm": {
     "name": "#%%\n"
    }
   }
  },
  {
   "cell_type": "code",
   "execution_count": 11,
   "outputs": [],
   "source": [
    "data=pd.merge(left=data,right=tempresult,on='code',how='inner')"
   ],
   "metadata": {
    "collapsed": false,
    "pycharm": {
     "name": "#%%\n"
    }
   }
  },
  {
   "cell_type": "code",
   "execution_count": 12,
   "outputs": [],
   "source": [
    "tempresult=data"
   ],
   "metadata": {
    "collapsed": false,
    "pycharm": {
     "name": "#%%\n"
    }
   }
  },
  {
   "cell_type": "code",
   "execution_count": 13,
   "outputs": [],
   "source": [
    "import random\n",
    "import math\n",
    "def species_origin(population_size,chromosome_length):\n",
    "    population=[[]]\n",
    "    #二维列表，包含染色体和基因\n",
    "    for i in range(population_size):\n",
    "        temporary=[]\n",
    "        #染色体暂存器\n",
    "        for j in range(chromosome_length):\n",
    "            temporary.append(random.randint(0,1))\n",
    "            #随机产生一个染色体,由二进制数组成\n",
    "        population.append(temporary)\n",
    "            #将染色体添加到种群中\n",
    "    return population[1:]\n",
    "def newborn(population,born_size,chromosome_length):\n",
    "    population=population\n",
    "    #二维列表，包含染色体和基因\n",
    "    for i in range(born_size):\n",
    "        temporary=[]\n",
    "        #染色体暂存器\n",
    "        for j in range(chromosome_length):\n",
    "            temporary.append(random.randint(0,1))\n",
    "            #随机产生一个染色体,由二进制数组成\n",
    "        population.append(temporary)\n",
    "            #将染色体添加到种群中\n",
    "    return population[1:]\n",
    "def translation(population):\n",
    "    temporary=[]\n",
    "    for i in range(len(population)):\n",
    "        temp_gross_z=0\n",
    "        temp_roe_z=0\n",
    "        temp_roa_z=0\n",
    "        temp_longdebt_f=0\n",
    "        temp_qsales_z=0\n",
    "        temp_qop_z=0\n",
    "        temp_equity_z=0\n",
    "        temp_turnover_f=0\n",
    "        temp_bp_z=0\n",
    "        temp_ep_z=0\n",
    "        temp_sp_z=0\n",
    "\n",
    "        temp_gross_zy=0\n",
    "        temp_roe_zy=0\n",
    "        temp_roa_zy=0\n",
    "        temp_longdebt_fy=0\n",
    "        temp_qsales_zy=0\n",
    "        temp_qop_zy=0\n",
    "        temp_equity_zy=0\n",
    "        temp_turnover_fy=0\n",
    "        temp_bp_zy=0\n",
    "        temp_ep_zy=0\n",
    "        temp_sp_zy=0\n",
    "\n",
    "        for j in range(0,6):\n",
    "            temp_gross_z=population[i][j]*(math.pow(2,j))\n",
    "        for j in range(6,12):\n",
    "            temp_roe_z+=population[i][j]*(math.pow(2,j-6))\n",
    "        for j in range(12,18):\n",
    "            temp_roa_z+=population[i][j]*(math.pow(2,j-12))\n",
    "        for j in range(18,24):\n",
    "            temp_longdebt_f+=-population[i][j]*(math.pow(2,j-18))\n",
    "        for j in range(24,30):\n",
    "            temp_qsales_z+=population[i][j]*(math.pow(2,j-24))\n",
    "        for j in range(30,36):\n",
    "            temp_qop_z+=population[i][j]*(math.pow(2,j-30))\n",
    "        for j in range(36,42):\n",
    "            temp_equity_z+=population[i][j]*(math.pow(2,j-36))\n",
    "        for j in range(42,48):\n",
    "            temp_turnover_f+=-population[i][j]*(math.pow(2,j-42))\n",
    "        for j in range(48,54):\n",
    "            temp_bp_z+=population[i][j]*(math.pow(2,j-48))\n",
    "        for j in range(54,60):\n",
    "            temp_ep_z+=population[i][j]*(math.pow(2,j-54))\n",
    "        for j in range(60,66):\n",
    "            temp_sp_z+=population[i][j]*(math.pow(2,j-60))\n",
    "\n",
    "        for j in range(66,72):\n",
    "            temp_gross_zy=population[i][j]*(math.pow(2,j-66))\n",
    "        for j in range(72,78):\n",
    "            temp_roe_zy+=population[i][j]*(math.pow(2,j-72))\n",
    "        for j in range(78,84):\n",
    "            temp_roa_zy+=population[i][j]*(math.pow(2,j-78))\n",
    "        for j in range(84,90):\n",
    "            temp_longdebt_fy+=-population[i][j]*(math.pow(2,j-84))\n",
    "        for j in range(90,96):\n",
    "            temp_qsales_zy+=population[i][j]*(math.pow(2,j-90))\n",
    "        for j in range(96,102):\n",
    "            temp_qop_zy+=population[i][j]*(math.pow(2,j-96))\n",
    "        for j in range(102,108):\n",
    "            temp_equity_zy+=population[i][j]*(math.pow(2,j-102))\n",
    "        for j in range(108,114):\n",
    "            temp_turnover_fy+=-population[i][j]*(math.pow(2,j-108))\n",
    "        for j in range(114,120):\n",
    "            temp_bp_zy+=population[i][j]*(math.pow(2,j-114))\n",
    "        for j in range(120,126):\n",
    "            temp_ep_zy+=population[i][j]*(math.pow(2,j-120))\n",
    "        for j in range(126,132):\n",
    "            temp_sp_zy+=population[i][j]*(math.pow(2,j-126))\n",
    "        zheng=temp_gross_z+temp_roe_z+temp_roa_z+temp_qsales_z+temp_qop_z+temp_equity_z+temp_ep_z+temp_sp_z+temp_bp_z\n",
    "        zheng=zheng+temp_gross_zy+temp_roe_zy+temp_roa_zy+temp_qsales_zy+temp_qop_zy+temp_equity_zy+temp_ep_zy+temp_sp_zy+temp_bp_zy\n",
    "        fu=temp_turnover_f+temp_longdebt_f\n",
    "        fu=temp_turnover_fy+temp_longdebt_fy+fu\n",
    "        if fu!=0:\n",
    "            temp_turnover_f=-temp_turnover_f/zheng\n",
    "            temp_longdebt_f=-temp_longdebt_f/zheng\n",
    "            temp_turnover_fy=-temp_turnover_fy/zheng\n",
    "            temp_longdebt_fy=-temp_longdebt_fy/zheng\n",
    "        if zheng!=0:\n",
    "            temp_gross_z=temp_gross_z/zheng\n",
    "            temp_roe_z=temp_roe_z/zheng\n",
    "            temp_roa_z=temp_roa_z/zheng\n",
    "            temp_qsales_z=temp_qsales_z/zheng\n",
    "            temp_qop_z=temp_qop_z/zheng\n",
    "            temp_equity_z=temp_equity_z/zheng\n",
    "            temp_bp_z=temp_bp_z/zheng\n",
    "            temp_ep_z=temp_ep_z/zheng\n",
    "            temp_sp_z=temp_sp_z/zheng\n",
    "\n",
    "            temp_gross_zy=temp_gross_zy/zheng\n",
    "            temp_roe_zy=temp_roe_zy/zheng\n",
    "            temp_roa_zy=temp_roa_zy/zheng\n",
    "            temp_qsales_zy=temp_qsales_zy/zheng\n",
    "            temp_qop_zy=temp_qop_zy/zheng\n",
    "            temp_equity_zy=temp_equity_zy/zheng\n",
    "            temp_bp_zy=temp_bp_zy/zheng\n",
    "            temp_ep_zy=temp_ep_zy/zheng\n",
    "            temp_sp_zy=temp_sp_zy/zheng\n",
    "\n",
    "        total=[temp_gross_z,temp_roe_z,temp_roa_z,temp_longdebt_f,temp_qsales_z,temp_qop_z,\n",
    "               temp_equity_z,temp_turnover_f,temp_bp_z,temp_ep_z,temp_sp_z,\n",
    "               temp_gross_zy,temp_roe_zy,temp_roa_zy,temp_longdebt_fy,temp_qsales_zy,temp_qop_zy,\n",
    "               temp_equity_zy,temp_turnover_fy,temp_bp_zy,temp_ep_zy,temp_sp_zy]\n",
    "        temporary.append(total)\n",
    "        #一个染色体编码完成，由一个二进制数编码为一个十进制数\n",
    "    return temporary"
   ],
   "metadata": {
    "collapsed": false,
    "pycharm": {
     "name": "#%%\n"
    }
   }
  },
  {
   "cell_type": "code",
   "execution_count": 21,
   "outputs": [],
   "source": [
    "def loss(a,b,c,d,e,f,g,h,i,j,k,l,m,n,o,p,q,r,s,t,u,v,temp_data):\n",
    "    gross=a\n",
    "    roe=b\n",
    "    roa=c\n",
    "    longdebt=d\n",
    "    qsale=e\n",
    "    qop=f\n",
    "    equity=g\n",
    "    turnover=h\n",
    "    bp=i\n",
    "    ep=j\n",
    "    sp=k\n",
    "    grossy=l\n",
    "    roey=m\n",
    "    roay=n\n",
    "    longdebty=o\n",
    "    qsaley=p\n",
    "    qopy=q\n",
    "    equityy=r\n",
    "    turnovery=s\n",
    "    bpy=t\n",
    "    epy=u\n",
    "    spy=v\n",
    "    temp_data=temp_data\n",
    "    temp_data['score']=gross*temp_data['grossprofit_margin_x']+roe*temp_data['roe_x']+roa*temp_data['roa_x']+longdebt*temp_data['longdebt_to_workingcapital_x']+qsale*temp_data['q_sales_yoy_x']+qop*temp_data['q_op_yoy_x']+equity*temp_data['equity_yoy_x']+turnover*temp_data['turnover_rate_x']+bp*temp_data['bp_x']+ep*temp_data['ep_x']+sp*temp_data['sp_x']+grossy*temp_data['grossprofit_margin_y']+roey*temp_data['roe_y']+roay*temp_data['roa_y']+longdebty*temp_data['longdebt_to_workingcapital_y']+qsaley*temp_data['q_sales_yoy_y']+qopy*temp_data['q_op_yoy_y']+equityy*temp_data['equity_yoy_y']+turnovery*temp_data['turnover_rate_y']+bpy*temp_data['bp_y']+epy*temp_data['ep_y']+spy*temp_data['sp_y']\n",
    "    temp_data.sort_values(by=\"score\" , inplace=True, ascending=False)\n",
    "    temp_data=temp_data.reset_index(drop=True)\n",
    "    shouyi=temp_data.iloc[:10,23]\n",
    "    temp_data=temp_data[temp_data['shouyi']>=0]\n",
    "    all_shouyi=temp_data.iloc[:temp_data.shape[0],23]\n",
    "    shouyi=list(shouyi)\n",
    "    shouyi=sum(shouyi)/sum(all_shouyi)\n",
    "    return shouyi"
   ],
   "metadata": {
    "collapsed": false,
    "pycharm": {
     "name": "#%%\n"
    }
   }
  },
  {
   "cell_type": "code",
   "execution_count": null,
   "outputs": [],
   "source": [
    "def function(temporary,result1):\n",
    "    ##本函数返回每个个体的损失值\n",
    "    function1=[]\n",
    "    for i in range(len(temporary)):\n",
    "        x=loss(temporary[i][0],temporary[i][1],temporary[i][2],temporary[i][3],temporary[i][4],\n",
    "               temporary[i][5],temporary[i][6],temporary[i][7],temporary[i][8],temporary[i][9],\n",
    "               temporary[i][10],\n",
    "               temporary[i][11],temporary[i][12],temporary[i][13],temporary[i][14],temporary[i][15],\n",
    "               temporary[i][16],temporary[i][17],temporary[i][18],temporary[i][19],temporary[i][20],\n",
    "               temporary[i][21],result1)\n",
    "        #一个基因代表一个决策变量，其算法是先转化成十进制，然后再除以2的基因个数次方减1(固定值)。\n",
    "        function1.append(x)\n",
    "    return function1\n",
    "def best(population,fitness1):\n",
    "\n",
    "    px=len(population)\n",
    "    bestindividual=[]\n",
    "    bestfitness=fitness1[0]\n",
    "\n",
    "    for i in range(1,px):\n",
    "   # 循环找出最大的适应度，适应度最大的也就是最好的个体\n",
    "        if(fitness1[i]>bestfitness):\n",
    "\n",
    "            bestfitness=fitness1[i]\n",
    "            bestindividual=population[i]\n",
    "\n",
    "    return [bestindividual,bestfitness]\n",
    "def next_best(population,fitness1,temp_individual,temp_fitness):\n",
    "\n",
    "    px=len(population)\n",
    "    bestindividual=temp_individual\n",
    "    bestfitness=temp_fitness\n",
    "\n",
    "    for i in range(0,px):\n",
    "   # 循环找出最大的适应度，适应度最大的也就是最好的个体\n",
    "        if(fitness1[i]>bestfitness):\n",
    "\n",
    "            bestfitness=fitness1[i]\n",
    "            bestindividual=population[i]\n",
    "\n",
    "    return [bestindividual,bestfitness]\n",
    "def crossover(population):\n",
    "#pc是概率阈值，选择单点交叉还是多点交叉，生成新的交叉个体，这里没用\n",
    "    pop_len=len(population)\n",
    "\n",
    "    for i in range(pop_len-1):\n",
    "        cpoint=random.randint(0,len(population[0]))\n",
    "        #在种群个数内随机生成单点交叉点\n",
    "        temporary1=[]\n",
    "        temporary2=[]\n",
    "\n",
    "        temporary1.extend(population[i][0:cpoint])\n",
    "        temporary1.extend(population[i+1][cpoint:len(population[i])])\n",
    "        #将tmporary1作为暂存器，暂时存放第i个染色体中的前0到cpoint个基因，\n",
    "        #然后再把第i+1个染色体中的后cpoint到第i个染色体中的基因个数，补充到temporary2后面\n",
    "\n",
    "        temporary2.extend(population[i+1][0:cpoint])\n",
    "        temporary2.extend(population[i][cpoint:len(population[i])])\n",
    "        # 将tmporary2作为暂存器，暂时存放第i+1个染色体中的前0到cpoint个基因，\n",
    "        # 然后再把第i个染色体中的后cpoint到第i个染色体中的基因个数，补充到temporary2后面\n",
    "        population[i]=temporary1\n",
    "        population[i+1]=temporary2\n",
    "    return population\n",
    "def mutation(population,pm):\n",
    "    # pm是概率阈值\n",
    "    px=len(population)\n",
    "    # 求出种群中所有个体的个数\n",
    "    py=len(population[0])\n",
    "    # 染色体/个体中基因的个数\n",
    "    for i in range(px):\n",
    "        if(random.random()<pm):\n",
    "        #如果小于阈值就变异\n",
    "            mpoint=random.randint(0,py-1)\n",
    "            # 生成0到py-1的随机数\n",
    "            if(population[i][mpoint]==1):\n",
    "            #将mpoint个基因进行单点随机变异，变为0或者1\n",
    "                population[i][mpoint]=0\n",
    "            else:\n",
    "                population[i][mpoint]=1\n",
    "    return population\n",
    "def random_pick(some_list,probabilities,size):\n",
    "    item_list=[]\n",
    "    i=0\n",
    "    while i<size:\n",
    "        for item,item_probability in zip(some_list,probabilities):\n",
    "            x=random.uniform(0,1)\n",
    "            cumulative_probability=item_probability\n",
    "            if x < cumulative_probability:\n",
    "                item_list.append(item)\n",
    "                i=i+1\n",
    "    return item_list\n",
    "\n",
    "def selection(population,next_size,fitness1):\n",
    "    new_fitness=[]\n",
    "    #单个适应度暂存器\n",
    "    total_fitness=sum(fitness1)\n",
    "    #将所有的适应度求和\n",
    "    for i in range(len(fitness1)):\n",
    "        new_fitness.append(fitness1[i]/total_fitness)\n",
    "    select=random_pick(list(range(len(new_fitness))),new_fitness,next_size)\n",
    "    result=[]\n",
    "    for i in select:\n",
    "        result.append(population[i])\n",
    "    return result"
   ],
   "metadata": {
    "collapsed": false,
    "pycharm": {
     "name": "#%%\n"
    }
   }
  },
  {
   "cell_type": "code",
   "execution_count": 14,
   "outputs": [],
   "source": [
    "from sklearn.preprocessing import scale\n",
    "code=tempresult['code'].tolist()\n",
    "shouyi=tempresult['shouyi'].tolist()\n",
    "tempresult=tempresult[['grossprofit_margin_x','roe_x','roa_x',\n",
    "    'longdebt_to_workingcapital_x','q_sales_yoy_x','q_op_yoy_x',\n",
    "                       'equity_yoy_x','turnover_rate_x','bp_x','ep_x','sp_x',\n",
    "                       'grossprofit_margin_y','roe_y','roa_y',\n",
    "    'longdebt_to_workingcapital_y','q_sales_yoy_y','q_op_yoy_y',\n",
    "                       'equity_yoy_y','turnover_rate_y','bp_y','ep_y','sp_y']]\n",
    "tempresult=scale(tempresult,axis=0)\n",
    "tempresult=pd.DataFrame(tempresult)\n",
    "tempresult.columns=['grossprofit_margin_x','roe_x','roa_x',\n",
    "    'longdebt_to_workingcapital_x','q_sales_yoy_x','q_op_yoy_x',\n",
    "                       'equity_yoy_x','turnover_rate_x','bp_x','ep_x','sp_x',\n",
    "                       'grossprofit_margin_y','roe_y','roa_y',\n",
    "    'longdebt_to_workingcapital_y','q_sales_yoy_y','q_op_yoy_y',\n",
    "                       'equity_yoy_y','turnover_rate_y','bp_y','ep_y','sp_y']"
   ],
   "metadata": {
    "collapsed": false,
    "pycharm": {
     "name": "#%%\n"
    }
   }
  },
  {
   "cell_type": "code",
   "execution_count": 15,
   "outputs": [
    {
     "data": {
      "text/plain": "     grossprofit_margin_x     roe_x     roa_x  longdebt_to_workingcapital_x  \\\n0               -0.143946  0.759403  0.006667                     -0.089102   \n1                0.814087  0.132536  0.044031                     -0.106184   \n2                0.124682  0.001795  0.022765                     -0.094875   \n3                1.897777  1.006841  0.067938                     -0.099035   \n4                0.332795 -0.806402 -0.034113                     -0.119199   \n..                    ...       ...       ...                           ...   \n578              1.231093 -0.060549  0.063376                     -0.124214   \n579              1.279639 -0.033914  0.085421                     -0.124065   \n580              0.255005  0.023661  0.061704                     -0.122822   \n581              0.399180 -0.317899  0.032349                     -0.122445   \n582              0.334734  0.254241  0.056685                     -0.111785   \n\n     q_sales_yoy_x  q_op_yoy_x  equity_yoy_x  turnover_rate_x      bp_x  \\\n0        -0.086206   -0.034751      0.031872        -0.655388  0.500304   \n1        -0.284879   -0.044761     -0.107055        -0.826256  2.060693   \n2        -0.122862   -0.031908      0.110311         0.571939 -0.365423   \n3        -0.204709   -0.039121      0.018599         0.223365  0.088638   \n4        -0.457620   -0.091775     -0.231345        -0.374694  0.458877   \n..             ...         ...           ...              ...       ...   \n578       0.047963    0.006655     -0.256789        -0.527764 -0.431465   \n579      -0.147612   -0.028781     -0.159067        -0.459129 -0.501662   \n580      -0.124133   -0.024214      2.886657         0.658789 -0.699924   \n581       0.157829   -0.001994     -0.166939        -0.251260 -1.038855   \n582      -0.064968    0.051188     -0.106871        -0.120108 -1.066109   \n\n         ep_x  ...  longdebt_to_workingcapital_y  q_sales_yoy_y  q_op_yoy_y  \\\n0    1.683384  ...                     -0.081897      -0.149943   -0.192965   \n1    1.777441  ...                     -0.131389      -1.015287   -0.219416   \n2   -0.473727  ...                     -0.106445      -0.257679   -0.062907   \n3    1.852077  ...                     -0.113841      -0.532069   -6.742982   \n4   -0.523942  ...                     -0.157676       1.383554   -0.251681   \n..        ...  ...                           ...            ...         ...   \n578 -0.176915  ...                     -0.171436      -0.338079   -0.334210   \n579 -0.246352  ...                     -0.171143      -0.280862   -0.173332   \n580 -0.489876  ...                     -0.168611      -0.156561   -0.216800   \n581 -0.637561  ...                     -0.167277       0.151877   -0.177389   \n582 -0.669067  ...                     -0.145665       0.651978    0.522744   \n\n     equity_yoy_y  turnover_rate_y      bp_y      ep_y      sp_y        code  \\\n0       -0.028396        -0.635534  0.659018  2.064917  0.822625  000002.csv   \n1       -0.120729        -0.506080  1.685635  1.725229 -0.047107  000006.csv   \n2        0.007037        -0.172107 -0.217566 -0.457603  0.147502  000009.csv   \n3       -0.232652        -0.255647 -0.074116  1.625957 -0.047113  000011.csv   \n4       -0.159707        -0.367211  0.297015 -0.563531 -0.386620  000014.csv   \n..            ...              ...       ...       ...       ...         ...   \n578      1.121907        -0.293398 -0.667075 -0.348989 -0.624718  688078.csv   \n579      0.809130        -0.043459 -0.604042 -0.334178 -0.640395  688089.csv   \n580      1.608179         0.442540 -0.725342 -0.538354 -0.602851  688106.csv   \n581     -0.164940        -0.149708 -0.857450 -0.591968 -0.665870  688116.csv   \n582     -0.139733        -0.209435 -1.011037 -0.691357 -0.636306  688122.csv   \n\n       shouyi  \n0    0.074000  \n1   -0.026022  \n2    0.102535  \n3    0.109131  \n4   -0.022305  \n..        ...  \n578 -0.235882  \n579  0.024146  \n580 -0.206243  \n581 -0.368298  \n582 -0.666139  \n\n[583 rows x 24 columns]",
      "text/html": "<div>\n<style scoped>\n    .dataframe tbody tr th:only-of-type {\n        vertical-align: middle;\n    }\n\n    .dataframe tbody tr th {\n        vertical-align: top;\n    }\n\n    .dataframe thead th {\n        text-align: right;\n    }\n</style>\n<table border=\"1\" class=\"dataframe\">\n  <thead>\n    <tr style=\"text-align: right;\">\n      <th></th>\n      <th>grossprofit_margin_x</th>\n      <th>roe_x</th>\n      <th>roa_x</th>\n      <th>longdebt_to_workingcapital_x</th>\n      <th>q_sales_yoy_x</th>\n      <th>q_op_yoy_x</th>\n      <th>equity_yoy_x</th>\n      <th>turnover_rate_x</th>\n      <th>bp_x</th>\n      <th>ep_x</th>\n      <th>...</th>\n      <th>longdebt_to_workingcapital_y</th>\n      <th>q_sales_yoy_y</th>\n      <th>q_op_yoy_y</th>\n      <th>equity_yoy_y</th>\n      <th>turnover_rate_y</th>\n      <th>bp_y</th>\n      <th>ep_y</th>\n      <th>sp_y</th>\n      <th>code</th>\n      <th>shouyi</th>\n    </tr>\n  </thead>\n  <tbody>\n    <tr>\n      <th>0</th>\n      <td>-0.143946</td>\n      <td>0.759403</td>\n      <td>0.006667</td>\n      <td>-0.089102</td>\n      <td>-0.086206</td>\n      <td>-0.034751</td>\n      <td>0.031872</td>\n      <td>-0.655388</td>\n      <td>0.500304</td>\n      <td>1.683384</td>\n      <td>...</td>\n      <td>-0.081897</td>\n      <td>-0.149943</td>\n      <td>-0.192965</td>\n      <td>-0.028396</td>\n      <td>-0.635534</td>\n      <td>0.659018</td>\n      <td>2.064917</td>\n      <td>0.822625</td>\n      <td>000002.csv</td>\n      <td>0.074000</td>\n    </tr>\n    <tr>\n      <th>1</th>\n      <td>0.814087</td>\n      <td>0.132536</td>\n      <td>0.044031</td>\n      <td>-0.106184</td>\n      <td>-0.284879</td>\n      <td>-0.044761</td>\n      <td>-0.107055</td>\n      <td>-0.826256</td>\n      <td>2.060693</td>\n      <td>1.777441</td>\n      <td>...</td>\n      <td>-0.131389</td>\n      <td>-1.015287</td>\n      <td>-0.219416</td>\n      <td>-0.120729</td>\n      <td>-0.506080</td>\n      <td>1.685635</td>\n      <td>1.725229</td>\n      <td>-0.047107</td>\n      <td>000006.csv</td>\n      <td>-0.026022</td>\n    </tr>\n    <tr>\n      <th>2</th>\n      <td>0.124682</td>\n      <td>0.001795</td>\n      <td>0.022765</td>\n      <td>-0.094875</td>\n      <td>-0.122862</td>\n      <td>-0.031908</td>\n      <td>0.110311</td>\n      <td>0.571939</td>\n      <td>-0.365423</td>\n      <td>-0.473727</td>\n      <td>...</td>\n      <td>-0.106445</td>\n      <td>-0.257679</td>\n      <td>-0.062907</td>\n      <td>0.007037</td>\n      <td>-0.172107</td>\n      <td>-0.217566</td>\n      <td>-0.457603</td>\n      <td>0.147502</td>\n      <td>000009.csv</td>\n      <td>0.102535</td>\n    </tr>\n    <tr>\n      <th>3</th>\n      <td>1.897777</td>\n      <td>1.006841</td>\n      <td>0.067938</td>\n      <td>-0.099035</td>\n      <td>-0.204709</td>\n      <td>-0.039121</td>\n      <td>0.018599</td>\n      <td>0.223365</td>\n      <td>0.088638</td>\n      <td>1.852077</td>\n      <td>...</td>\n      <td>-0.113841</td>\n      <td>-0.532069</td>\n      <td>-6.742982</td>\n      <td>-0.232652</td>\n      <td>-0.255647</td>\n      <td>-0.074116</td>\n      <td>1.625957</td>\n      <td>-0.047113</td>\n      <td>000011.csv</td>\n      <td>0.109131</td>\n    </tr>\n    <tr>\n      <th>4</th>\n      <td>0.332795</td>\n      <td>-0.806402</td>\n      <td>-0.034113</td>\n      <td>-0.119199</td>\n      <td>-0.457620</td>\n      <td>-0.091775</td>\n      <td>-0.231345</td>\n      <td>-0.374694</td>\n      <td>0.458877</td>\n      <td>-0.523942</td>\n      <td>...</td>\n      <td>-0.157676</td>\n      <td>1.383554</td>\n      <td>-0.251681</td>\n      <td>-0.159707</td>\n      <td>-0.367211</td>\n      <td>0.297015</td>\n      <td>-0.563531</td>\n      <td>-0.386620</td>\n      <td>000014.csv</td>\n      <td>-0.022305</td>\n    </tr>\n    <tr>\n      <th>...</th>\n      <td>...</td>\n      <td>...</td>\n      <td>...</td>\n      <td>...</td>\n      <td>...</td>\n      <td>...</td>\n      <td>...</td>\n      <td>...</td>\n      <td>...</td>\n      <td>...</td>\n      <td>...</td>\n      <td>...</td>\n      <td>...</td>\n      <td>...</td>\n      <td>...</td>\n      <td>...</td>\n      <td>...</td>\n      <td>...</td>\n      <td>...</td>\n      <td>...</td>\n      <td>...</td>\n    </tr>\n    <tr>\n      <th>578</th>\n      <td>1.231093</td>\n      <td>-0.060549</td>\n      <td>0.063376</td>\n      <td>-0.124214</td>\n      <td>0.047963</td>\n      <td>0.006655</td>\n      <td>-0.256789</td>\n      <td>-0.527764</td>\n      <td>-0.431465</td>\n      <td>-0.176915</td>\n      <td>...</td>\n      <td>-0.171436</td>\n      <td>-0.338079</td>\n      <td>-0.334210</td>\n      <td>1.121907</td>\n      <td>-0.293398</td>\n      <td>-0.667075</td>\n      <td>-0.348989</td>\n      <td>-0.624718</td>\n      <td>688078.csv</td>\n      <td>-0.235882</td>\n    </tr>\n    <tr>\n      <th>579</th>\n      <td>1.279639</td>\n      <td>-0.033914</td>\n      <td>0.085421</td>\n      <td>-0.124065</td>\n      <td>-0.147612</td>\n      <td>-0.028781</td>\n      <td>-0.159067</td>\n      <td>-0.459129</td>\n      <td>-0.501662</td>\n      <td>-0.246352</td>\n      <td>...</td>\n      <td>-0.171143</td>\n      <td>-0.280862</td>\n      <td>-0.173332</td>\n      <td>0.809130</td>\n      <td>-0.043459</td>\n      <td>-0.604042</td>\n      <td>-0.334178</td>\n      <td>-0.640395</td>\n      <td>688089.csv</td>\n      <td>0.024146</td>\n    </tr>\n    <tr>\n      <th>580</th>\n      <td>0.255005</td>\n      <td>0.023661</td>\n      <td>0.061704</td>\n      <td>-0.122822</td>\n      <td>-0.124133</td>\n      <td>-0.024214</td>\n      <td>2.886657</td>\n      <td>0.658789</td>\n      <td>-0.699924</td>\n      <td>-0.489876</td>\n      <td>...</td>\n      <td>-0.168611</td>\n      <td>-0.156561</td>\n      <td>-0.216800</td>\n      <td>1.608179</td>\n      <td>0.442540</td>\n      <td>-0.725342</td>\n      <td>-0.538354</td>\n      <td>-0.602851</td>\n      <td>688106.csv</td>\n      <td>-0.206243</td>\n    </tr>\n    <tr>\n      <th>581</th>\n      <td>0.399180</td>\n      <td>-0.317899</td>\n      <td>0.032349</td>\n      <td>-0.122445</td>\n      <td>0.157829</td>\n      <td>-0.001994</td>\n      <td>-0.166939</td>\n      <td>-0.251260</td>\n      <td>-1.038855</td>\n      <td>-0.637561</td>\n      <td>...</td>\n      <td>-0.167277</td>\n      <td>0.151877</td>\n      <td>-0.177389</td>\n      <td>-0.164940</td>\n      <td>-0.149708</td>\n      <td>-0.857450</td>\n      <td>-0.591968</td>\n      <td>-0.665870</td>\n      <td>688116.csv</td>\n      <td>-0.368298</td>\n    </tr>\n    <tr>\n      <th>582</th>\n      <td>0.334734</td>\n      <td>0.254241</td>\n      <td>0.056685</td>\n      <td>-0.111785</td>\n      <td>-0.064968</td>\n      <td>0.051188</td>\n      <td>-0.106871</td>\n      <td>-0.120108</td>\n      <td>-1.066109</td>\n      <td>-0.669067</td>\n      <td>...</td>\n      <td>-0.145665</td>\n      <td>0.651978</td>\n      <td>0.522744</td>\n      <td>-0.139733</td>\n      <td>-0.209435</td>\n      <td>-1.011037</td>\n      <td>-0.691357</td>\n      <td>-0.636306</td>\n      <td>688122.csv</td>\n      <td>-0.666139</td>\n    </tr>\n  </tbody>\n</table>\n<p>583 rows × 24 columns</p>\n</div>"
     },
     "execution_count": 15,
     "metadata": {},
     "output_type": "execute_result"
    }
   ],
   "source": [
    "tempresult['code']=code\n",
    "tempresult['shouyi']=shouyi\n",
    "tempresult"
   ],
   "metadata": {
    "collapsed": false,
    "pycharm": {
     "name": "#%%\n"
    }
   }
  },
  {
   "cell_type": "code",
   "execution_count": 25,
   "outputs": [
    {
     "name": "stdout",
     "output_type": "stream",
     "text": [
      "[[0.05203252032520325, 0.05203252032520325, 0.03414634146341464, 0.07642276422764227, 0.026016260162601626, 0.1024390243902439, 0.032520325203252036, 0.004878048780487805, 0.07804878048780488, 0.0959349593495935, 0.05203252032520325, 0.05203252032520325, 0.04878048780487805, 0.06991869918699187, 0.0032520325203252032, 0.00975609756097561, 0.08943089430894309, 0.022764227642276424, 0.004878048780487805, 0.0959349593495935, 0.04715447154471545, 0.03902439024390244]]\n",
      "0.03301965805591168\n",
      "[[0.05203252032520325, 0.05203252032520325, 0.03414634146341464, 0.07642276422764227, 0.026016260162601626, 0.1024390243902439, 0.032520325203252036, 0.004878048780487805, 0.07804878048780488, 0.0959349593495935, 0.05203252032520325, 0.05203252032520325, 0.04878048780487805, 0.06991869918699187, 0.0032520325203252032, 0.00975609756097561, 0.08943089430894309, 0.022764227642276424, 0.004878048780487805, 0.0959349593495935, 0.04715447154471545, 0.03902439024390244]]\n",
      "0.03301965805591168\n",
      "[[0.05203252032520325, 0.05203252032520325, 0.03414634146341464, 0.07642276422764227, 0.026016260162601626, 0.1024390243902439, 0.032520325203252036, 0.004878048780487805, 0.07804878048780488, 0.0959349593495935, 0.05203252032520325, 0.05203252032520325, 0.04878048780487805, 0.06991869918699187, 0.0032520325203252032, 0.00975609756097561, 0.08943089430894309, 0.022764227642276424, 0.004878048780487805, 0.0959349593495935, 0.04715447154471545, 0.03902439024390244]]\n",
      "0.03301965805591168\n",
      "[[0.05203252032520325, 0.05203252032520325, 0.03414634146341464, 0.07642276422764227, 0.026016260162601626, 0.1024390243902439, 0.032520325203252036, 0.004878048780487805, 0.07804878048780488, 0.0959349593495935, 0.05203252032520325, 0.05203252032520325, 0.04878048780487805, 0.06991869918699187, 0.0032520325203252032, 0.00975609756097561, 0.08943089430894309, 0.022764227642276424, 0.004878048780487805, 0.0959349593495935, 0.04715447154471545, 0.03902439024390244]]\n",
      "0.03301965805591168\n",
      "[[0.05203252032520325, 0.05203252032520325, 0.03414634146341464, 0.07642276422764227, 0.026016260162601626, 0.1024390243902439, 0.032520325203252036, 0.004878048780487805, 0.07804878048780488, 0.0959349593495935, 0.05203252032520325, 0.05203252032520325, 0.04878048780487805, 0.06991869918699187, 0.0032520325203252032, 0.00975609756097561, 0.08943089430894309, 0.022764227642276424, 0.004878048780487805, 0.0959349593495935, 0.04715447154471545, 0.03902439024390244]]\n",
      "0.03301965805591168\n",
      "[[0.05203252032520325, 0.05203252032520325, 0.03414634146341464, 0.07642276422764227, 0.026016260162601626, 0.1024390243902439, 0.032520325203252036, 0.004878048780487805, 0.07804878048780488, 0.0959349593495935, 0.05203252032520325, 0.05203252032520325, 0.04878048780487805, 0.06991869918699187, 0.0032520325203252032, 0.00975609756097561, 0.08943089430894309, 0.022764227642276424, 0.004878048780487805, 0.0959349593495935, 0.04715447154471545, 0.03902439024390244]]\n",
      "0.03301965805591168\n",
      "[[0.05203252032520325, 0.05203252032520325, 0.03414634146341464, 0.07642276422764227, 0.026016260162601626, 0.1024390243902439, 0.032520325203252036, 0.004878048780487805, 0.07804878048780488, 0.0959349593495935, 0.05203252032520325, 0.05203252032520325, 0.04878048780487805, 0.06991869918699187, 0.0032520325203252032, 0.00975609756097561, 0.08943089430894309, 0.022764227642276424, 0.004878048780487805, 0.0959349593495935, 0.04715447154471545, 0.03902439024390244]]\n",
      "0.03301965805591168\n",
      "[[0.05203252032520325, 0.05203252032520325, 0.03414634146341464, 0.07642276422764227, 0.026016260162601626, 0.1024390243902439, 0.032520325203252036, 0.004878048780487805, 0.07804878048780488, 0.0959349593495935, 0.05203252032520325, 0.05203252032520325, 0.04878048780487805, 0.06991869918699187, 0.0032520325203252032, 0.00975609756097561, 0.08943089430894309, 0.022764227642276424, 0.004878048780487805, 0.0959349593495935, 0.04715447154471545, 0.03902439024390244]]\n",
      "0.03301965805591168\n"
     ]
    },
    {
     "ename": "KeyboardInterrupt",
     "evalue": "",
     "output_type": "error",
     "traceback": [
      "\u001B[1;31m---------------------------------------------------------------------------\u001B[0m",
      "\u001B[1;31mKeyboardInterrupt\u001B[0m                         Traceback (most recent call last)",
      "\u001B[1;32m<ipython-input-25-841df985fb5e>\u001B[0m in \u001B[0;36m<module>\u001B[1;34m\u001B[0m\n\u001B[0;32m      7\u001B[0m \u001B[1;32mfor\u001B[0m \u001B[0mm\u001B[0m \u001B[1;32min\u001B[0m \u001B[0mrange\u001B[0m\u001B[1;33m(\u001B[0m\u001B[1;36m100\u001B[0m\u001B[1;33m)\u001B[0m\u001B[1;33m:\u001B[0m\u001B[1;33m\u001B[0m\u001B[1;33m\u001B[0m\u001B[0m\n\u001B[0;32m      8\u001B[0m     \u001B[0mtemporary\u001B[0m\u001B[1;33m=\u001B[0m\u001B[0mtranslation\u001B[0m\u001B[1;33m(\u001B[0m\u001B[0mpopulation\u001B[0m\u001B[1;33m)\u001B[0m\u001B[1;33m\u001B[0m\u001B[1;33m\u001B[0m\u001B[0m\n\u001B[1;32m----> 9\u001B[1;33m     \u001B[0mfitness1\u001B[0m\u001B[1;33m=\u001B[0m\u001B[0mfunction\u001B[0m\u001B[1;33m(\u001B[0m\u001B[0mtemporary\u001B[0m\u001B[1;33m,\u001B[0m\u001B[0mtempresult\u001B[0m\u001B[1;33m)\u001B[0m\u001B[1;33m\u001B[0m\u001B[1;33m\u001B[0m\u001B[0m\n\u001B[0m\u001B[0;32m     10\u001B[0m     \u001B[1;32mif\u001B[0m \u001B[0mm\u001B[0m\u001B[1;33m==\u001B[0m\u001B[1;36m0\u001B[0m\u001B[1;33m:\u001B[0m\u001B[1;33m\u001B[0m\u001B[1;33m\u001B[0m\u001B[0m\n\u001B[0;32m     11\u001B[0m         \u001B[0mbest_individual\u001B[0m\u001B[1;33m,\u001B[0m\u001B[0mbest_fitness\u001B[0m\u001B[1;33m=\u001B[0m\u001B[0mbest\u001B[0m\u001B[1;33m(\u001B[0m\u001B[0mpopulation\u001B[0m\u001B[1;33m,\u001B[0m\u001B[0mfitness1\u001B[0m\u001B[1;33m)\u001B[0m\u001B[1;33m\u001B[0m\u001B[1;33m\u001B[0m\u001B[0m\n",
      "\u001B[1;32m<ipython-input-13-de5e0d7a7940>\u001B[0m in \u001B[0;36mfunction\u001B[1;34m(temporary, result1)\u001B[0m\n\u001B[0;32m    173\u001B[0m     \u001B[0mfunction1\u001B[0m\u001B[1;33m=\u001B[0m\u001B[1;33m[\u001B[0m\u001B[1;33m]\u001B[0m\u001B[1;33m\u001B[0m\u001B[1;33m\u001B[0m\u001B[0m\n\u001B[0;32m    174\u001B[0m     \u001B[1;32mfor\u001B[0m \u001B[0mi\u001B[0m \u001B[1;32min\u001B[0m \u001B[0mrange\u001B[0m\u001B[1;33m(\u001B[0m\u001B[0mlen\u001B[0m\u001B[1;33m(\u001B[0m\u001B[0mtemporary\u001B[0m\u001B[1;33m)\u001B[0m\u001B[1;33m)\u001B[0m\u001B[1;33m:\u001B[0m\u001B[1;33m\u001B[0m\u001B[1;33m\u001B[0m\u001B[0m\n\u001B[1;32m--> 175\u001B[1;33m         x=loss(temporary[i][0],temporary[i][1],temporary[i][2],temporary[i][3],temporary[i][4],\n\u001B[0m\u001B[0;32m    176\u001B[0m                \u001B[0mtemporary\u001B[0m\u001B[1;33m[\u001B[0m\u001B[0mi\u001B[0m\u001B[1;33m]\u001B[0m\u001B[1;33m[\u001B[0m\u001B[1;36m5\u001B[0m\u001B[1;33m]\u001B[0m\u001B[1;33m,\u001B[0m\u001B[0mtemporary\u001B[0m\u001B[1;33m[\u001B[0m\u001B[0mi\u001B[0m\u001B[1;33m]\u001B[0m\u001B[1;33m[\u001B[0m\u001B[1;36m6\u001B[0m\u001B[1;33m]\u001B[0m\u001B[1;33m,\u001B[0m\u001B[0mtemporary\u001B[0m\u001B[1;33m[\u001B[0m\u001B[0mi\u001B[0m\u001B[1;33m]\u001B[0m\u001B[1;33m[\u001B[0m\u001B[1;36m7\u001B[0m\u001B[1;33m]\u001B[0m\u001B[1;33m,\u001B[0m\u001B[0mtemporary\u001B[0m\u001B[1;33m[\u001B[0m\u001B[0mi\u001B[0m\u001B[1;33m]\u001B[0m\u001B[1;33m[\u001B[0m\u001B[1;36m8\u001B[0m\u001B[1;33m]\u001B[0m\u001B[1;33m,\u001B[0m\u001B[0mtemporary\u001B[0m\u001B[1;33m[\u001B[0m\u001B[0mi\u001B[0m\u001B[1;33m]\u001B[0m\u001B[1;33m[\u001B[0m\u001B[1;36m9\u001B[0m\u001B[1;33m]\u001B[0m\u001B[1;33m,\u001B[0m\u001B[1;33m\u001B[0m\u001B[1;33m\u001B[0m\u001B[0m\n\u001B[0;32m    177\u001B[0m                \u001B[0mtemporary\u001B[0m\u001B[1;33m[\u001B[0m\u001B[0mi\u001B[0m\u001B[1;33m]\u001B[0m\u001B[1;33m[\u001B[0m\u001B[1;36m10\u001B[0m\u001B[1;33m]\u001B[0m\u001B[1;33m,\u001B[0m\u001B[1;33m\u001B[0m\u001B[1;33m\u001B[0m\u001B[0m\n",
      "\u001B[1;32m<ipython-input-21-1a78a6ce484e>\u001B[0m in \u001B[0;36mloss\u001B[1;34m(a, b, c, d, e, f, g, h, i, j, k, l, m, n, o, p, q, r, s, t, u, v, temp_data)\u001B[0m\n\u001B[0;32m     24\u001B[0m     \u001B[0mtemp_data\u001B[0m\u001B[1;33m=\u001B[0m\u001B[0mtemp_data\u001B[0m\u001B[1;33m\u001B[0m\u001B[1;33m\u001B[0m\u001B[0m\n\u001B[0;32m     25\u001B[0m     \u001B[0mtemp_data\u001B[0m\u001B[1;33m[\u001B[0m\u001B[1;34m'score'\u001B[0m\u001B[1;33m]\u001B[0m\u001B[1;33m=\u001B[0m\u001B[0mgross\u001B[0m\u001B[1;33m*\u001B[0m\u001B[0mtemp_data\u001B[0m\u001B[1;33m[\u001B[0m\u001B[1;34m'grossprofit_margin_x'\u001B[0m\u001B[1;33m]\u001B[0m\u001B[1;33m+\u001B[0m\u001B[0mroe\u001B[0m\u001B[1;33m*\u001B[0m\u001B[0mtemp_data\u001B[0m\u001B[1;33m[\u001B[0m\u001B[1;34m'roe_x'\u001B[0m\u001B[1;33m]\u001B[0m\u001B[1;33m+\u001B[0m\u001B[0mroa\u001B[0m\u001B[1;33m*\u001B[0m\u001B[0mtemp_data\u001B[0m\u001B[1;33m[\u001B[0m\u001B[1;34m'roa_x'\u001B[0m\u001B[1;33m]\u001B[0m\u001B[1;33m+\u001B[0m\u001B[0mlongdebt\u001B[0m\u001B[1;33m*\u001B[0m\u001B[0mtemp_data\u001B[0m\u001B[1;33m[\u001B[0m\u001B[1;34m'longdebt_to_workingcapital_x'\u001B[0m\u001B[1;33m]\u001B[0m\u001B[1;33m+\u001B[0m\u001B[0mqsale\u001B[0m\u001B[1;33m*\u001B[0m\u001B[0mtemp_data\u001B[0m\u001B[1;33m[\u001B[0m\u001B[1;34m'q_sales_yoy_x'\u001B[0m\u001B[1;33m]\u001B[0m\u001B[1;33m+\u001B[0m\u001B[0mqop\u001B[0m\u001B[1;33m*\u001B[0m\u001B[0mtemp_data\u001B[0m\u001B[1;33m[\u001B[0m\u001B[1;34m'q_op_yoy_x'\u001B[0m\u001B[1;33m]\u001B[0m\u001B[1;33m+\u001B[0m\u001B[0mequity\u001B[0m\u001B[1;33m*\u001B[0m\u001B[0mtemp_data\u001B[0m\u001B[1;33m[\u001B[0m\u001B[1;34m'equity_yoy_x'\u001B[0m\u001B[1;33m]\u001B[0m\u001B[1;33m+\u001B[0m\u001B[0mturnover\u001B[0m\u001B[1;33m*\u001B[0m\u001B[0mtemp_data\u001B[0m\u001B[1;33m[\u001B[0m\u001B[1;34m'turnover_rate_x'\u001B[0m\u001B[1;33m]\u001B[0m\u001B[1;33m+\u001B[0m\u001B[0mbp\u001B[0m\u001B[1;33m*\u001B[0m\u001B[0mtemp_data\u001B[0m\u001B[1;33m[\u001B[0m\u001B[1;34m'bp_x'\u001B[0m\u001B[1;33m]\u001B[0m\u001B[1;33m+\u001B[0m\u001B[0mep\u001B[0m\u001B[1;33m*\u001B[0m\u001B[0mtemp_data\u001B[0m\u001B[1;33m[\u001B[0m\u001B[1;34m'ep_x'\u001B[0m\u001B[1;33m]\u001B[0m\u001B[1;33m+\u001B[0m\u001B[0msp\u001B[0m\u001B[1;33m*\u001B[0m\u001B[0mtemp_data\u001B[0m\u001B[1;33m[\u001B[0m\u001B[1;34m'sp_x'\u001B[0m\u001B[1;33m]\u001B[0m\u001B[1;33m+\u001B[0m\u001B[0mgrossy\u001B[0m\u001B[1;33m*\u001B[0m\u001B[0mtemp_data\u001B[0m\u001B[1;33m[\u001B[0m\u001B[1;34m'grossprofit_margin_y'\u001B[0m\u001B[1;33m]\u001B[0m\u001B[1;33m+\u001B[0m\u001B[0mroey\u001B[0m\u001B[1;33m*\u001B[0m\u001B[0mtemp_data\u001B[0m\u001B[1;33m[\u001B[0m\u001B[1;34m'roe_y'\u001B[0m\u001B[1;33m]\u001B[0m\u001B[1;33m+\u001B[0m\u001B[0mroay\u001B[0m\u001B[1;33m*\u001B[0m\u001B[0mtemp_data\u001B[0m\u001B[1;33m[\u001B[0m\u001B[1;34m'roa_y'\u001B[0m\u001B[1;33m]\u001B[0m\u001B[1;33m+\u001B[0m\u001B[0mlongdebty\u001B[0m\u001B[1;33m*\u001B[0m\u001B[0mtemp_data\u001B[0m\u001B[1;33m[\u001B[0m\u001B[1;34m'longdebt_to_workingcapital_y'\u001B[0m\u001B[1;33m]\u001B[0m\u001B[1;33m+\u001B[0m\u001B[0mqsaley\u001B[0m\u001B[1;33m*\u001B[0m\u001B[0mtemp_data\u001B[0m\u001B[1;33m[\u001B[0m\u001B[1;34m'q_sales_yoy_y'\u001B[0m\u001B[1;33m]\u001B[0m\u001B[1;33m+\u001B[0m\u001B[0mqopy\u001B[0m\u001B[1;33m*\u001B[0m\u001B[0mtemp_data\u001B[0m\u001B[1;33m[\u001B[0m\u001B[1;34m'q_op_yoy_y'\u001B[0m\u001B[1;33m]\u001B[0m\u001B[1;33m+\u001B[0m\u001B[0mequityy\u001B[0m\u001B[1;33m*\u001B[0m\u001B[0mtemp_data\u001B[0m\u001B[1;33m[\u001B[0m\u001B[1;34m'equity_yoy_y'\u001B[0m\u001B[1;33m]\u001B[0m\u001B[1;33m+\u001B[0m\u001B[0mturnovery\u001B[0m\u001B[1;33m*\u001B[0m\u001B[0mtemp_data\u001B[0m\u001B[1;33m[\u001B[0m\u001B[1;34m'turnover_rate_y'\u001B[0m\u001B[1;33m]\u001B[0m\u001B[1;33m+\u001B[0m\u001B[0mbpy\u001B[0m\u001B[1;33m*\u001B[0m\u001B[0mtemp_data\u001B[0m\u001B[1;33m[\u001B[0m\u001B[1;34m'bp_y'\u001B[0m\u001B[1;33m]\u001B[0m\u001B[1;33m+\u001B[0m\u001B[0mepy\u001B[0m\u001B[1;33m*\u001B[0m\u001B[0mtemp_data\u001B[0m\u001B[1;33m[\u001B[0m\u001B[1;34m'ep_y'\u001B[0m\u001B[1;33m]\u001B[0m\u001B[1;33m+\u001B[0m\u001B[0mspy\u001B[0m\u001B[1;33m*\u001B[0m\u001B[0mtemp_data\u001B[0m\u001B[1;33m[\u001B[0m\u001B[1;34m'sp_y'\u001B[0m\u001B[1;33m]\u001B[0m\u001B[1;33m\u001B[0m\u001B[1;33m\u001B[0m\u001B[0m\n\u001B[1;32m---> 26\u001B[1;33m     \u001B[0mtemp_data\u001B[0m\u001B[1;33m.\u001B[0m\u001B[0msort_values\u001B[0m\u001B[1;33m(\u001B[0m\u001B[0mby\u001B[0m\u001B[1;33m=\u001B[0m\u001B[1;34m\"score\"\u001B[0m \u001B[1;33m,\u001B[0m \u001B[0minplace\u001B[0m\u001B[1;33m=\u001B[0m\u001B[1;32mTrue\u001B[0m\u001B[1;33m,\u001B[0m \u001B[0mascending\u001B[0m\u001B[1;33m=\u001B[0m\u001B[1;32mFalse\u001B[0m\u001B[1;33m)\u001B[0m\u001B[1;33m\u001B[0m\u001B[1;33m\u001B[0m\u001B[0m\n\u001B[0m\u001B[0;32m     27\u001B[0m     \u001B[0mtemp_data\u001B[0m\u001B[1;33m=\u001B[0m\u001B[0mtemp_data\u001B[0m\u001B[1;33m.\u001B[0m\u001B[0mreset_index\u001B[0m\u001B[1;33m(\u001B[0m\u001B[0mdrop\u001B[0m\u001B[1;33m=\u001B[0m\u001B[1;32mTrue\u001B[0m\u001B[1;33m)\u001B[0m\u001B[1;33m\u001B[0m\u001B[1;33m\u001B[0m\u001B[0m\n\u001B[0;32m     28\u001B[0m     \u001B[0mshouyi\u001B[0m\u001B[1;33m=\u001B[0m\u001B[0mtemp_data\u001B[0m\u001B[1;33m.\u001B[0m\u001B[0miloc\u001B[0m\u001B[1;33m[\u001B[0m\u001B[1;33m:\u001B[0m\u001B[1;36m10\u001B[0m\u001B[1;33m,\u001B[0m\u001B[1;36m23\u001B[0m\u001B[1;33m]\u001B[0m\u001B[1;33m\u001B[0m\u001B[1;33m\u001B[0m\u001B[0m\n",
      "\u001B[1;32mF:\\Anaconda3\\lib\\site-packages\\pandas\\core\\frame.py\u001B[0m in \u001B[0;36msort_values\u001B[1;34m(self, by, axis, ascending, inplace, kind, na_position, ignore_index)\u001B[0m\n\u001B[0;32m   4930\u001B[0m                 \u001B[0mascending\u001B[0m \u001B[1;33m=\u001B[0m \u001B[0mascending\u001B[0m\u001B[1;33m[\u001B[0m\u001B[1;36m0\u001B[0m\u001B[1;33m]\u001B[0m\u001B[1;33m\u001B[0m\u001B[1;33m\u001B[0m\u001B[0m\n\u001B[0;32m   4931\u001B[0m \u001B[1;33m\u001B[0m\u001B[0m\n\u001B[1;32m-> 4932\u001B[1;33m             indexer = nargsort(\n\u001B[0m\u001B[0;32m   4933\u001B[0m                 \u001B[0mk\u001B[0m\u001B[1;33m,\u001B[0m \u001B[0mkind\u001B[0m\u001B[1;33m=\u001B[0m\u001B[0mkind\u001B[0m\u001B[1;33m,\u001B[0m \u001B[0mascending\u001B[0m\u001B[1;33m=\u001B[0m\u001B[0mascending\u001B[0m\u001B[1;33m,\u001B[0m \u001B[0mna_position\u001B[0m\u001B[1;33m=\u001B[0m\u001B[0mna_position\u001B[0m\u001B[1;33m\u001B[0m\u001B[1;33m\u001B[0m\u001B[0m\n\u001B[0;32m   4934\u001B[0m             )\n",
      "\u001B[1;32mF:\\Anaconda3\\lib\\site-packages\\pandas\\core\\sorting.py\u001B[0m in \u001B[0;36mnargsort\u001B[1;34m(items, kind, ascending, na_position)\u001B[0m\n\u001B[0;32m    272\u001B[0m         \u001B[0mnon_nans\u001B[0m \u001B[1;33m=\u001B[0m \u001B[0mnon_nans\u001B[0m\u001B[1;33m[\u001B[0m\u001B[1;33m:\u001B[0m\u001B[1;33m:\u001B[0m\u001B[1;33m-\u001B[0m\u001B[1;36m1\u001B[0m\u001B[1;33m]\u001B[0m\u001B[1;33m\u001B[0m\u001B[1;33m\u001B[0m\u001B[0m\n\u001B[0;32m    273\u001B[0m         \u001B[0mnon_nan_idx\u001B[0m \u001B[1;33m=\u001B[0m \u001B[0mnon_nan_idx\u001B[0m\u001B[1;33m[\u001B[0m\u001B[1;33m:\u001B[0m\u001B[1;33m:\u001B[0m\u001B[1;33m-\u001B[0m\u001B[1;36m1\u001B[0m\u001B[1;33m]\u001B[0m\u001B[1;33m\u001B[0m\u001B[1;33m\u001B[0m\u001B[0m\n\u001B[1;32m--> 274\u001B[1;33m     \u001B[0mindexer\u001B[0m \u001B[1;33m=\u001B[0m \u001B[0mnon_nan_idx\u001B[0m\u001B[1;33m[\u001B[0m\u001B[0mnon_nans\u001B[0m\u001B[1;33m.\u001B[0m\u001B[0margsort\u001B[0m\u001B[1;33m(\u001B[0m\u001B[0mkind\u001B[0m\u001B[1;33m=\u001B[0m\u001B[0mkind\u001B[0m\u001B[1;33m)\u001B[0m\u001B[1;33m]\u001B[0m\u001B[1;33m\u001B[0m\u001B[1;33m\u001B[0m\u001B[0m\n\u001B[0m\u001B[0;32m    275\u001B[0m     \u001B[1;32mif\u001B[0m \u001B[1;32mnot\u001B[0m \u001B[0mascending\u001B[0m\u001B[1;33m:\u001B[0m\u001B[1;33m\u001B[0m\u001B[1;33m\u001B[0m\u001B[0m\n\u001B[0;32m    276\u001B[0m         \u001B[0mindexer\u001B[0m \u001B[1;33m=\u001B[0m \u001B[0mindexer\u001B[0m\u001B[1;33m[\u001B[0m\u001B[1;33m:\u001B[0m\u001B[1;33m:\u001B[0m\u001B[1;33m-\u001B[0m\u001B[1;36m1\u001B[0m\u001B[1;33m]\u001B[0m\u001B[1;33m\u001B[0m\u001B[1;33m\u001B[0m\u001B[0m\n",
      "\u001B[1;31mKeyboardInterrupt\u001B[0m: "
     ]
    }
   ],
   "source": [
    "population_size=500\n",
    "chromosome_length=132\n",
    "population=species_origin(population_size,chromosome_length)\n",
    "results=[]\n",
    "pm=0.8\n",
    "fitness_bianhua=[]\n",
    "for m in range(100):\n",
    "    temporary=translation(population)\n",
    "    fitness1=function(temporary,tempresult)\n",
    "    if m==0:\n",
    "        best_individual,best_fitness=best(population,fitness1)\n",
    "        fitness_bianhua.append(best_fitness)\n",
    "    else:\n",
    "        best_individual,best_fitness=next_best(population,fitness1,best_individual,best_fitness)\n",
    "        fitness_bianhua.append(best_fitness)\n",
    "    print(translation([best_individual]))\n",
    "    print(best_fitness)\n",
    "    results.append([best_fitness,best_individual])\n",
    "     #将最好的个体和最好的适应度保存，并将最好的个体转成十进制\n",
    "    population=selection(population,500,fitness1)#选择\n",
    "    population=crossover(population)#交配\n",
    "    population=mutation(population,pm)#变异\n",
    "    population=newborn(population,50,chromosome_length)"
   ],
   "metadata": {
    "collapsed": false,
    "pycharm": {
     "name": "#%%\n"
    }
   }
  },
  {
   "cell_type": "code",
   "execution_count": null,
   "outputs": [],
   "source": [
    "import matplotlib.pyplot as plt\n",
    "plt.plot(fitness_bianhua,'b-',label='return')"
   ],
   "metadata": {
    "collapsed": false,
    "pycharm": {
     "name": "#%%\n"
    }
   }
  },
  {
   "cell_type": "code",
   "execution_count": null,
   "outputs": [],
   "source": [
    "print(translation([best_individual]))"
   ],
   "metadata": {
    "collapsed": false,
    "pycharm": {
     "name": "#%%\n"
    }
   }
  },
  {
   "cell_type": "code",
   "execution_count": 29,
   "outputs": [
    {
     "data": {
      "text/plain": "1.0414036446125867"
     },
     "execution_count": 29,
     "metadata": {},
     "output_type": "execute_result"
    }
   ],
   "source": [
    "def loss(a,b,c,d,e,f,g,h,i,j,k,l,m,n,o,p,q,r,s,t,u,v,temp_data):\n",
    "    gross=a\n",
    "    roe=b\n",
    "    roa=c\n",
    "    longdebt=d\n",
    "    qsale=e\n",
    "    qop=f\n",
    "    equity=g\n",
    "    turnover=h\n",
    "    bp=i\n",
    "    ep=j\n",
    "    sp=k\n",
    "    grossy=l\n",
    "    roey=m\n",
    "    roay=n\n",
    "    longdebty=o\n",
    "    qsaley=p\n",
    "    qopy=q\n",
    "    equityy=r\n",
    "    turnovery=s\n",
    "    bpy=t\n",
    "    epy=u\n",
    "    spy=v\n",
    "    temp_data=temp_data\n",
    "    temp_data['score']=gross*temp_data['grossprofit_margin_x']+roe*temp_data['roe_x']+roa*temp_data['roa_x']+longdebt*temp_data['longdebt_to_workingcapital_x']+qsale*temp_data['q_sales_yoy_x']+qop*temp_data['q_op_yoy_x']+equity*temp_data['equity_yoy_x']+turnover*temp_data['turnover_rate_x']+bp*temp_data['bp_x']+ep*temp_data['ep_x']+sp*temp_data['sp_x']+grossy*temp_data['grossprofit_margin_y']+roey*temp_data['roe_y']+roay*temp_data['roa_y']+longdebty*temp_data['longdebt_to_workingcapital_y']+qsaley*temp_data['q_sales_yoy_y']+qopy*temp_data['q_op_yoy_y']+equityy*temp_data['equity_yoy_y']+turnovery*temp_data['turnover_rate_y']+bpy*temp_data['bp_y']+epy*temp_data['ep_y']+spy*temp_data['sp_y']\n",
    "    temp_data.sort_values(by=\"score\" , inplace=True, ascending=False)\n",
    "    temp_data=temp_data.reset_index(drop=True)\n",
    "    shouyi=temp_data.iloc[:10,23]\n",
    "    temp_data.to_csv(\"qianshi.csv\",index=False)\n",
    "    temp_data=temp_data[temp_data['shouyi']>=0]\n",
    "    shouyi=list(shouyi)\n",
    "    shouyi=sum(shouyi)\n",
    "    return shouyi\n",
    "loss(0.0, 0.007159904534606206, 0.057279236276849645, 0.07875894988066826, 0.002386634844868735, 0.12171837708830549, 0.11217183770883055, 0.059665871121718374, 0.1431980906921241, 0.13126491646778043, 0.011933174224343675, 0.0, 0.11933174224343675, 0.03579952267303103, 0.10501193317422435, 0.00477326968973747, 0.011933174224343675, 0.028639618138424822, 0.007159904534606206, 0.10023866348448687, 0.02386634844868735, 0.0883054892601432,tempresult)"
   ],
   "metadata": {
    "collapsed": false,
    "pycharm": {
     "name": "#%%\n"
    }
   }
  }
 ],
 "metadata": {
  "kernelspec": {
   "name": "pycharm-1dac48b0",
   "language": "python",
   "display_name": "PyCharm (shiyan)"
  },
  "language_info": {
   "codemirror_mode": {
    "name": "ipython",
    "version": 2
   },
   "file_extension": ".py",
   "mimetype": "text/x-python",
   "name": "python",
   "nbconvert_exporter": "python",
   "pygments_lexer": "ipython2",
   "version": "2.7.6"
  }
 },
 "nbformat": 4,
 "nbformat_minor": 0
}