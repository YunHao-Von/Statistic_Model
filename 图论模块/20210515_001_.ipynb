{
 "cells": [
  {
   "cell_type": "code",
   "execution_count": 13,
   "metadata": {
    "collapsed": true
   },
   "outputs": [],
   "source": [
    "import pandas as pd\n",
    "import numpy as np\n",
    "all=pd.read_csv('股票列表.csv',converters={'symbol':str})\n",
    "all=all[all['list_date']<=20180101]\n",
    "all=all['symbol'].tolist()"
   ]
  },
  {
   "cell_type": "code",
   "execution_count": 14,
   "outputs": [],
   "source": [
    "import os\n",
    "corr=[]\n",
    "for i in all:\n",
    "    temp_data=pd.read_csv('日线数据/'+i+'.csv')[['ts_code','trade_date','close']]\n",
    "    temp_data=temp_data[temp_data['trade_date']>=20180101]\n",
    "    temp_data=temp_data[temp_data['trade_date']<=20210301]\n",
    "    if len(temp_data['close'].tolist())<=500:\n",
    "        continue\n",
    "    temp_data=temp_data['close'].tolist()[-500:]\n",
    "    corr.append(temp_data)"
   ],
   "metadata": {
    "collapsed": false,
    "pycharm": {
     "name": "#%%\n"
    }
   }
  },
  {
   "cell_type": "markdown",
   "source": [
    "第一二步都是在筛选数据"
   ],
   "metadata": {
    "collapsed": false,
    "pycharm": {
     "name": "#%% md\n"
    }
   }
  },
  {
   "cell_type": "code",
   "execution_count": 15,
   "outputs": [
    {
     "name": "stdout",
     "output_type": "stream",
     "text": [
      "[[ 1.          0.47942816  0.46197647 ... -0.20094313  0.34572632\n",
      "   0.3319213 ]\n",
      " [ 0.47942816  1.          0.47910447 ...  0.39481457  0.67481181\n",
      "   0.69891255]\n",
      " [ 0.46197647  0.47910447  1.         ...  0.03837329  0.18889528\n",
      "   0.66944931]\n",
      " ...\n",
      " [-0.20094313  0.39481457  0.03837329 ...  1.          0.25240146\n",
      "   0.40631008]\n",
      " [ 0.34572632  0.67481181  0.18889528 ...  0.25240146  1.\n",
      "   0.35799015]\n",
      " [ 0.3319213   0.69891255  0.66944931 ...  0.40631008  0.35799015\n",
      "   1.        ]]\n"
     ]
    }
   ],
   "source": [
    "corr=np.array(corr)\n",
    "print(np.corrcoef(corr))\n",
    "pearson_corr=np.corrcoef(corr)"
   ],
   "metadata": {
    "collapsed": false,
    "pycharm": {
     "name": "#%%\n"
    }
   }
  },
  {
   "cell_type": "markdown",
   "source": [
    "第三步得到相关矩阵"
   ],
   "metadata": {
    "collapsed": false,
    "pycharm": {
     "name": "#%% md\n"
    }
   }
  },
  {
   "cell_type": "code",
   "execution_count": 16,
   "outputs": [],
   "source": [
    "model_data=[]\n",
    "useful_names=[]\n",
    "for i in all:\n",
    "    temp_data=pd.read_csv('日线数据/'+i+'.csv')[['ts_code','trade_date','pct_chg']]\n",
    "    temp_data=temp_data[temp_data['trade_date']>=20180101]\n",
    "    temp_data=temp_data[temp_data['trade_date']<=20210301]\n",
    "    if len(temp_data['pct_chg'].tolist())<=500:\n",
    "        continue\n",
    "    temp_data=temp_data['pct_chg'].tolist()[-500:]\n",
    "    model_data.append(temp_data)\n",
    "    useful_names.append(i)\n",
    "model_data=np.array(model_data)"
   ],
   "metadata": {
    "collapsed": false,
    "pycharm": {
     "name": "#%%\n"
    }
   }
  },
  {
   "cell_type": "markdown",
   "source": [
    "构建数据矩阵"
   ],
   "metadata": {
    "collapsed": false,
    "pycharm": {
     "name": "#%% md\n"
    }
   }
  },
  {
   "cell_type": "code",
   "execution_count": 17,
   "outputs": [],
   "source": [
    "def find_most_important(temp_feature_improtance):\n",
    "    temp_feature_improtance=np.array(temp_feature_improtance)\n",
    "    connection=[0]*len(temp_feature_improtance)\n",
    "    temp_index=[]\n",
    "    konw_max=[]\n",
    "    percent=0\n",
    "    while 1:\n",
    "        temp_max=max(temp_feature_improtance)\n",
    "        if temp_max<=0.01:\n",
    "            break\n",
    "        index=np.argmax(temp_feature_improtance)\n",
    "        temp_index.append(index)\n",
    "        konw_max.append(temp_max)\n",
    "        percent=percent+temp_feature_improtance[index]\n",
    "        temp_feature_improtance[index]=temp_max-10\n",
    "        if percent>=0.85:\n",
    "            break\n",
    "    if len(temp_index)!=0:\n",
    "        for i in range(len(temp_index)):\n",
    "            index=temp_index[i]\n",
    "            connection[index]=konw_max[i]\n",
    "    return connection"
   ],
   "metadata": {
    "collapsed": false,
    "pycharm": {
     "name": "#%%\n"
    }
   }
  },
  {
   "cell_type": "code",
   "execution_count": 18,
   "outputs": [],
   "source": [
    "import xgboost\n",
    "from numpy import loadtxt\n",
    "from xgboost import XGBRegressor\n",
    "from sklearn.model_selection import train_test_split\n",
    "from sklearn.metrics import accuracy_score\n",
    "decide_matrix=(pearson_corr>=0.9)&(pearson_corr!=1)\n",
    "connect_matrix=[]\n",
    "for i in range(model_data.shape[0]):\n",
    "    copy=decide_matrix[i]\n",
    "    result=[0]*len(decide_matrix[i])\n",
    "    label=model_data[i]\n",
    "    location=np.where(copy==True)\n",
    "    feature=model_data[location[0]].T\n",
    "    if feature.shape[1]==0:\n",
    "        connect_matrix.append(result)\n",
    "        continue\n",
    "    seed = 7\n",
    "    test_size = 0.01\n",
    "    X_train, X_test, y_train, y_test = train_test_split(feature, label, test_size=test_size, random_state=seed)\n",
    "    model = XGBRegressor()\n",
    "    model.fit(X_train, y_train)\n",
    "    feature_improtace=model.feature_importances_\n",
    "    feature_improtace=find_most_important(feature_improtace)\n",
    "    location=location[0]\n",
    "    for m in range(len(location)):\n",
    "        result[location[m]]=feature_improtace[m]\n",
    "    result[i]=0\n",
    "    connect_matrix.append(result)\n",
    "connect_matrix=np.array(connect_matrix)"
   ],
   "metadata": {
    "collapsed": false,
    "pycharm": {
     "name": "#%%\n"
    }
   }
  },
  {
   "cell_type": "markdown",
   "source": [
    "<font color=red>将相关矩阵转化为feature importance矩阵</font>"
   ],
   "metadata": {
    "collapsed": false,
    "pycharm": {
     "name": "#%% md\n"
    }
   }
  },
  {
   "cell_type": "code",
   "execution_count": 19,
   "outputs": [
    {
     "name": "stdout",
     "output_type": "stream",
     "text": [
      "[[0. 0. 0. ... 0. 0. 0.]\n",
      " [0. 0. 0. ... 0. 0. 0.]\n",
      " [0. 0. 0. ... 0. 0. 0.]\n",
      " ...\n",
      " [0. 0. 0. ... 0. 0. 0.]\n",
      " [0. 0. 0. ... 0. 0. 0.]\n",
      " [0. 0. 0. ... 0. 0. 0.]]\n"
     ]
    },
    {
     "data": {
      "text/plain": "25503"
     },
     "execution_count": 19,
     "metadata": {},
     "output_type": "execute_result"
    }
   ],
   "source": [
    "print(connect_matrix)\n",
    "np.count_nonzero(connect_matrix)"
   ],
   "metadata": {
    "collapsed": false,
    "pycharm": {
     "name": "#%%\n"
    }
   }
  },
  {
   "cell_type": "code",
   "execution_count": 20,
   "outputs": [
    {
     "name": "stdout",
     "output_type": "stream",
     "text": [
      "[[0. 0. 0. ... 0. 0. 0.]\n",
      " [0. 0. 0. ... 0. 0. 0.]\n",
      " [0. 0. 0. ... 0. 0. 0.]\n",
      " ...\n",
      " [0. 0. 0. ... 0. 0. 0.]\n",
      " [0. 0. 0. ... 0. 0. 0.]\n",
      " [0. 0. 0. ... 0. 0. 0.]]\n"
     ]
    },
    {
     "data": {
      "text/plain": "25503"
     },
     "execution_count": 20,
     "metadata": {},
     "output_type": "execute_result"
    }
   ],
   "source": [
    "print(connect_matrix)\n",
    "np.sum(connect_matrix!=0)"
   ],
   "metadata": {
    "collapsed": false,
    "pycharm": {
     "name": "#%%\n"
    }
   }
  },
  {
   "cell_type": "code",
   "execution_count": 21,
   "outputs": [
    {
     "name": "stdout",
     "output_type": "stream",
     "text": [
      "(3412, 500)\n",
      "3412\n",
      "000001\n"
     ]
    }
   ],
   "source": [
    "print(model_data.shape)\n",
    "print(len(useful_names))\n",
    "print(useful_names[0])"
   ],
   "metadata": {
    "collapsed": false,
    "pycharm": {
     "name": "#%%\n"
    }
   }
  },
  {
   "cell_type": "code",
   "execution_count": 22,
   "outputs": [],
   "source": [
    "# np.save('connect_matrix.npy',connect_matrix)"
   ],
   "metadata": {
    "collapsed": false,
    "pycharm": {
     "name": "#%%\n"
    }
   }
  },
  {
   "cell_type": "code",
   "execution_count": 23,
   "outputs": [],
   "source": [
    "import pandas as pd\n",
    "up_and_down=pd.read_csv('up_and_down.csv')\n",
    "risk_score=np.zeros((3412,3412))\n",
    "for i in range(up_and_down.shape[0]):\n",
    "    temp_code=str(up_and_down.iloc[i,1][0:6])\n",
    "    temp_date=up_and_down.iloc[i,0]\n",
    "    big_change=up_and_down.iloc[i,2]\n",
    "    if temp_code in useful_names:\n",
    "        temp_index=useful_names.index(temp_code)\n",
    "        temp_connection=connect_matrix[temp_index]\n",
    "        temp_location=np.where(temp_connection!=0)\n",
    "        temp_location=temp_location[0]\n",
    "        if len(temp_location)==0:\n",
    "            continue\n",
    "        for m in temp_location:\n",
    "            temp_rixian=pd.read_csv('日线数据/'+str(useful_names[m])+'.csv')\n",
    "            temp_rixian=temp_rixian[temp_rixian['trade_date']==temp_date]\n",
    "            if temp_rixian.shape[0]==0:\n",
    "                continue\n",
    "            temp_change=temp_rixian.iloc[0,8]\n",
    "            if temp_change*big_change>0:\n",
    "                risk_score[temp_index,m]=1*temp_connection[m]"
   ],
   "metadata": {
    "collapsed": false,
    "pycharm": {
     "name": "#%%\n"
    }
   }
  },
  {
   "cell_type": "markdown",
   "source": [
    "这里是仿真过程"
   ],
   "metadata": {
    "collapsed": false,
    "pycharm": {
     "name": "#%% md\n"
    }
   }
  },
  {
   "cell_type": "code",
   "execution_count": 24,
   "outputs": [],
   "source": [
    "np.save('risk.npy',risk_score)"
   ],
   "metadata": {
    "collapsed": false,
    "pycharm": {
     "name": "#%%\n"
    }
   }
  },
  {
   "cell_type": "code",
   "execution_count": 25,
   "outputs": [
    {
     "ename": "NameError",
     "evalue": "name 'risk' is not defined",
     "output_type": "error",
     "traceback": [
      "\u001B[1;31m---------------------------------------------------------------------------\u001B[0m",
      "\u001B[1;31mNameError\u001B[0m                                 Traceback (most recent call last)",
      "\u001B[1;32m<ipython-input-25-b02b3daf2a5d>\u001B[0m in \u001B[0;36m<module>\u001B[1;34m\u001B[0m\n\u001B[1;32m----> 1\u001B[1;33m \u001B[0mrisk\u001B[0m\u001B[1;33m\u001B[0m\u001B[1;33m\u001B[0m\u001B[0m\n\u001B[0m",
      "\u001B[1;31mNameError\u001B[0m: name 'risk' is not defined"
     ]
    }
   ],
   "source": [
    "risk"
   ],
   "metadata": {
    "collapsed": false,
    "pycharm": {
     "name": "#%%\n"
    }
   }
  }
 ],
 "metadata": {
  "kernelspec": {
   "name": "pycharm-1dac48b0",
   "language": "python",
   "display_name": "PyCharm (shiyan)"
  },
  "language_info": {
   "codemirror_mode": {
    "name": "ipython",
    "version": 2
   },
   "file_extension": ".py",
   "mimetype": "text/x-python",
   "name": "python",
   "nbconvert_exporter": "python",
   "pygments_lexer": "ipython2",
   "version": "2.7.6"
  }
 },
 "nbformat": 4,
 "nbformat_minor": 0
}